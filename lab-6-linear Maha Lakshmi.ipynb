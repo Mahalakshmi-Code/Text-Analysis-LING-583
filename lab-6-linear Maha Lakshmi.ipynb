{
 "cells": [
  {
   "cell_type": "markdown",
   "id": "2963e41d-42b6-46ee-8848-06b964400045",
   "metadata": {},
   "source": [
    "# LAB 6: Text classification with linear models\n",
    "\n",
    "Objectives:\n",
    "- Train and evaluate linear text classifiers using SGDClassifier\n",
    "- Experiment with different feature extraction and training methods\n",
    "- Some things to try:\n",
    "  - [SGDClassifier](https://scikit-learn.org/stable/modules/generated/sklearn.linear_model.SGDClassifier.html#sklearn-linear-model-sgdclassifier)\n",
    "  - [TFIDFVectorizer](https://scikit-learn.org/stable/modules/generated/sklearn.feature_extraction.text.TfidfVectorizer.html#sklearn-feature-extraction-text-tfidfvectorizer)\n",
    "  - [TruncatedSVD](https://scikit-learn.org/stable/modules/generated/sklearn.decomposition.TruncatedSVD.html#sklearn-decomposition-truncatedsvd)"
   ]
  },
  {
   "cell_type": "code",
   "execution_count": 1,
   "id": "e2931d6c-fa68-483d-aebe-9c96f16deca8",
   "metadata": {},
   "outputs": [],
   "source": [
    "# loss parameters\n",
    "# tfidf diff ways of building tdm\n",
    "# extracting relavent data\n",
    "# accuracy % correct out of all\n",
    "# goal increase micro avg-arith mean of all f1 scores"
   ]
  },
  {
   "cell_type": "code",
   "execution_count": 2,
   "id": "9faa346c-b787-489c-bff1-39cafec5491c",
   "metadata": {},
   "outputs": [],
   "source": [
    "import nltk\n",
    "import numpy as np\n",
    "import pandas as pd\n",
    "from cytoolz import *\n",
    "from tqdm.auto import tqdm\n",
    "\n",
    "tqdm.pandas()"
   ]
  },
  {
   "cell_type": "markdown",
   "id": "b9aa064c-59b0-495c-8dcb-465666eb0a7d",
   "metadata": {},
   "source": [
    "## Load and pre-process data"
   ]
  },
  {
   "cell_type": "markdown",
   "id": "e958a1c8-8101-4906-8871-3ec9f26744a2",
   "metadata": {},
   "source": [
    "CCAT : CORPORATE/INDUSTRIAL  \n",
    "ECAT : ECONOMICS  \n",
    "GCAT : GOVERNMENT/SOCIAL  \n",
    "MCAT : MARKETS "
   ]
  },
  {
   "cell_type": "code",
   "execution_count": 3,
   "id": "c5db7754-3b01-4eec-affc-fae42c6fdc4b",
   "metadata": {},
   "outputs": [
    {
     "data": {
      "text/html": [
       "<div>\n",
       "<style scoped>\n",
       "    .dataframe tbody tr th:only-of-type {\n",
       "        vertical-align: middle;\n",
       "    }\n",
       "\n",
       "    .dataframe tbody tr th {\n",
       "        vertical-align: top;\n",
       "    }\n",
       "\n",
       "    .dataframe thead th {\n",
       "        text-align: right;\n",
       "    }\n",
       "</style>\n",
       "<table border=\"1\" class=\"dataframe\">\n",
       "  <thead>\n",
       "    <tr style=\"text-align: right;\">\n",
       "      <th></th>\n",
       "      <th>text</th>\n",
       "      <th>topics</th>\n",
       "    </tr>\n",
       "  </thead>\n",
       "  <tbody>\n",
       "    <tr>\n",
       "      <th>0</th>\n",
       "      <td>Ecuador's Government Minister quits. Ecuador's...</td>\n",
       "      <td>GCAT</td>\n",
       "    </tr>\n",
       "    <tr>\n",
       "      <th>1</th>\n",
       "      <td>SAfrica Old Mutual, Portugal bank in joint ven...</td>\n",
       "      <td>CCAT</td>\n",
       "    </tr>\n",
       "    <tr>\n",
       "      <th>2</th>\n",
       "      <td>Lipper general muni fund index 128.00, down 0....</td>\n",
       "      <td>MCAT</td>\n",
       "    </tr>\n",
       "    <tr>\n",
       "      <th>3</th>\n",
       "      <td>U.S. resource use level not sustainable - S.F....</td>\n",
       "      <td>ECAT</td>\n",
       "    </tr>\n",
       "    <tr>\n",
       "      <th>4</th>\n",
       "      <td>General Instrument aims to unlock value. Gener...</td>\n",
       "      <td>CCAT</td>\n",
       "    </tr>\n",
       "  </tbody>\n",
       "</table>\n",
       "</div>"
      ],
      "text/plain": [
       "                                                text topics\n",
       "0  Ecuador's Government Minister quits. Ecuador's...   GCAT\n",
       "1  SAfrica Old Mutual, Portugal bank in joint ven...   CCAT\n",
       "2  Lipper general muni fund index 128.00, down 0....   MCAT\n",
       "3  U.S. resource use level not sustainable - S.F....   ECAT\n",
       "4  General Instrument aims to unlock value. Gener...   CCAT"
      ]
     },
     "execution_count": 3,
     "metadata": {},
     "output_type": "execute_result"
    }
   ],
   "source": [
    "train = pd.read_pickle(\"/data/rcv1-topics-train.pkl\")\n",
    "test = pd.read_pickle(\"/data/rcv1-topics-test.pkl\")\n",
    "test.head()\n",
    "# sample of articles labels in 1 of 4"
   ]
  },
  {
   "cell_type": "code",
   "execution_count": 4,
   "id": "6cc372b3-8fd4-41f4-8c49-5947e6132fc7",
   "metadata": {},
   "outputs": [
    {
     "data": {
      "text/plain": [
       "CCAT    5896\n",
       "MCAT    3281\n",
       "GCAT    3225\n",
       "ECAT    1073\n",
       "Name: topics, dtype: int64"
      ]
     },
     "execution_count": 4,
     "metadata": {},
     "output_type": "execute_result"
    }
   ],
   "source": [
    "train[\"topics\"].value_counts()"
   ]
  },
  {
   "cell_type": "code",
   "execution_count": 5,
   "id": "4cb91cb8-3633-4a08-841f-c700bbb167e9",
   "metadata": {},
   "outputs": [],
   "source": [
    "import spacy\n",
    "\n",
    "nlp = spacy.load(\n",
    "    \"en_core_web_sm\",\n",
    "    exclude=[\"tagger\", \"parser\", \"ner\", \"lemmatizer\", \"attribute_ruler\"],\n",
    ")\n",
    "\n",
    "\n",
    "def tokenize(text):\n",
    "    doc = nlp.tokenizer(text)\n",
    "    return \" \".join(t.norm_ for t in doc if t.is_alpha)"
   ]
  },
  {
   "cell_type": "code",
   "execution_count": 6,
   "id": "81453292-e89a-459a-a96e-489a981c5120",
   "metadata": {},
   "outputs": [
    {
     "data": {
      "application/vnd.jupyter.widget-view+json": {
       "model_id": "38450e0153d64c13a063f91cdfbad68a",
       "version_major": 2,
       "version_minor": 0
      },
      "text/plain": [
       "  0%|          | 0/13475 [00:00<?, ?it/s]"
      ]
     },
     "metadata": {},
     "output_type": "display_data"
    },
    {
     "data": {
      "application/vnd.jupyter.widget-view+json": {
       "model_id": "cdac88a508f14a5fa8731cbac35d95bb",
       "version_major": 2,
       "version_minor": 0
      },
      "text/plain": [
       "  0%|          | 0/3369 [00:00<?, ?it/s]"
      ]
     },
     "metadata": {},
     "output_type": "display_data"
    }
   ],
   "source": [
    "train[\"tokens\"] = train[\"text\"].progress_apply(tokenize)\n",
    "test[\"tokens\"] = test[\"text\"].progress_apply(tokenize)"
   ]
  },
  {
   "cell_type": "code",
   "execution_count": 7,
   "id": "dd66bc73-015e-4414-93cf-94760e9e9ea5",
   "metadata": {},
   "outputs": [
    {
     "data": {
      "text/plain": [
       "'nz bonds close well bid ahead of key data at figures in brackets compare against previous day close futures physical yield pct day bills jun prev days prev yr bonds jun prev prev yr bonds jun prev prev overnight cash pct prev us yr prev nzd usd prev us yr prev twi prev us yr prev nz mci vs vs nz monetary conditions remain loose at the close economists warn of reserve bank action key data tonight may cause yields to rise rumors of possible million global kiwi issue new zealand monetary conditions remained very loose at the debt market close on friday as bank bills refused to rise in response to a sharply lower dollar trade weighted index economists warned that the reserve bank was close to taking action to counter the market led easing of the past hours the monetary conditions index mci stood more than basis points equivalent below the rbnz desired line but dealers said key non farm payrolls data due out tonight could prompt the sell off required to bring conditions back within the central bank comfort zone we could come in on monday and be seven to points off because of the payrolls a bond dealer said bond yields closed about seven points lower as the bid tome remained firmly in force a shortage of government stock and a spate of euokiwi issues has kept the bond curve well bid this week some dealers said the rumors were rife of a million global issue probably in the three to five year maturity range there all these rumors about million deals a big global issue denominated in kiwi dollars said a senior dealer i think that been on the go for probably the last two or three days and that been one the reason for the strength over the week there nothing confirmed yet it just the story going around he said strength in the bond market was seen as one of the reasons why the short end has failed to compensate for the lower twi a large rate set on thursday had also lent unnatural support to the short end dealers said there seemed to be a very large rate set on thursday and after that cleared out you had a number of guys who had these ready made shorts so when it did sell they were quite happy to stick bids in and just look to buy them back and take the profit said one trade on friday was light ahead of the payrolls data which was likely to set the tone for next week if the data failed to provoke tighter conditions here dealers saw the reserve bank between a rock and a hard place they in a tough situation because they got their mps coming out on june so if they try and tighten things up now and then ease things off in three weeks time it going to leave the offshore punters very confused said one dealer i think they really just be better to shut their mouths and wait until the mps comes out but i do know if they can do that he said it could make for an interesting old week next week matthew brockett wellington newsroom'"
      ]
     },
     "execution_count": 7,
     "metadata": {},
     "output_type": "execute_result"
    }
   ],
   "source": [
    "train['tokens'].iloc[0]\n",
    "# numbers punctuations gone\n",
    "# the is there"
   ]
  },
  {
   "cell_type": "markdown",
   "id": "14572349-8079-4005-ad17-190302c7b1c2",
   "metadata": {},
   "source": [
    "-------\n",
    "\n",
    "## MultinomialNB"
   ]
  },
  {
   "cell_type": "code",
   "execution_count": 8,
   "id": "1e175349-0617-4ce8-91db-6b0f98a963ff",
   "metadata": {},
   "outputs": [],
   "source": [
    "from sklearn.feature_extraction.text import CountVectorizer\n",
    "from sklearn.metrics import classification_report\n",
    "from sklearn.naive_bayes import MultinomialNB\n",
    "from sklearn.pipeline import make_pipeline"
   ]
  },
  {
   "cell_type": "code",
   "execution_count": 9,
   "id": "00250a65-cee4-494d-bda2-eccf45744420",
   "metadata": {},
   "outputs": [
    {
     "name": "stdout",
     "output_type": "stream",
     "text": [
      "              precision    recall  f1-score   support\n",
      "\n",
      "        CCAT       0.96      0.94      0.95      1475\n",
      "        ECAT       0.92      0.65      0.76       268\n",
      "        GCAT       0.93      0.98      0.95       806\n",
      "        MCAT       0.90      0.97      0.94       820\n",
      "\n",
      "    accuracy                           0.93      3369\n",
      "   macro avg       0.93      0.88      0.90      3369\n",
      "weighted avg       0.94      0.93      0.93      3369\n",
      "\n"
     ]
    }
   ],
   "source": [
    "mnb = make_pipeline(CountVectorizer(token_pattern=r\"\\S+\"), MultinomialNB())# sequence of non spaces\n",
    "mnb.fit(train[\"tokens\"], train[\"topics\"])\n",
    "predicted = mnb.predict(test[\"tokens\"])\n",
    "print(classification_report(test[\"topics\"], predicted))"
   ]
  },
  {
   "cell_type": "code",
   "execution_count": 10,
   "id": "6116955a-8b10-4f3a-8720-faccad06a8a1",
   "metadata": {},
   "outputs": [],
   "source": [
    "# macro avg\n",
    "# \n",
    "from scipy.stats.distributions import loguniform, randint, uniform\n",
    "from sklearn.model_selection import RandomizedSearchCV"
   ]
  },
  {
   "cell_type": "markdown",
   "id": "192ff9b5-5899-45ee-9478-8ee9b890b799",
   "metadata": {},
   "source": [
    "HYPERPARAMETER SEARCH"
   ]
  },
  {
   "cell_type": "code",
   "execution_count": 11,
   "id": "8679857e-e355-4dc3-b384-f958a7561c49",
   "metadata": {},
   "outputs": [
    {
     "data": {
      "text/html": [
       "<style>#sk-container-id-1 {color: black;background-color: white;}#sk-container-id-1 pre{padding: 0;}#sk-container-id-1 div.sk-toggleable {background-color: white;}#sk-container-id-1 label.sk-toggleable__label {cursor: pointer;display: block;width: 100%;margin-bottom: 0;padding: 0.3em;box-sizing: border-box;text-align: center;}#sk-container-id-1 label.sk-toggleable__label-arrow:before {content: \"▸\";float: left;margin-right: 0.25em;color: #696969;}#sk-container-id-1 label.sk-toggleable__label-arrow:hover:before {color: black;}#sk-container-id-1 div.sk-estimator:hover label.sk-toggleable__label-arrow:before {color: black;}#sk-container-id-1 div.sk-toggleable__content {max-height: 0;max-width: 0;overflow: hidden;text-align: left;background-color: #f0f8ff;}#sk-container-id-1 div.sk-toggleable__content pre {margin: 0.2em;color: black;border-radius: 0.25em;background-color: #f0f8ff;}#sk-container-id-1 input.sk-toggleable__control:checked~div.sk-toggleable__content {max-height: 200px;max-width: 100%;overflow: auto;}#sk-container-id-1 input.sk-toggleable__control:checked~label.sk-toggleable__label-arrow:before {content: \"▾\";}#sk-container-id-1 div.sk-estimator input.sk-toggleable__control:checked~label.sk-toggleable__label {background-color: #d4ebff;}#sk-container-id-1 div.sk-label input.sk-toggleable__control:checked~label.sk-toggleable__label {background-color: #d4ebff;}#sk-container-id-1 input.sk-hidden--visually {border: 0;clip: rect(1px 1px 1px 1px);clip: rect(1px, 1px, 1px, 1px);height: 1px;margin: -1px;overflow: hidden;padding: 0;position: absolute;width: 1px;}#sk-container-id-1 div.sk-estimator {font-family: monospace;background-color: #f0f8ff;border: 1px dotted black;border-radius: 0.25em;box-sizing: border-box;margin-bottom: 0.5em;}#sk-container-id-1 div.sk-estimator:hover {background-color: #d4ebff;}#sk-container-id-1 div.sk-parallel-item::after {content: \"\";width: 100%;border-bottom: 1px solid gray;flex-grow: 1;}#sk-container-id-1 div.sk-label:hover label.sk-toggleable__label {background-color: #d4ebff;}#sk-container-id-1 div.sk-serial::before {content: \"\";position: absolute;border-left: 1px solid gray;box-sizing: border-box;top: 0;bottom: 0;left: 50%;z-index: 0;}#sk-container-id-1 div.sk-serial {display: flex;flex-direction: column;align-items: center;background-color: white;padding-right: 0.2em;padding-left: 0.2em;position: relative;}#sk-container-id-1 div.sk-item {position: relative;z-index: 1;}#sk-container-id-1 div.sk-parallel {display: flex;align-items: stretch;justify-content: center;background-color: white;position: relative;}#sk-container-id-1 div.sk-item::before, #sk-container-id-1 div.sk-parallel-item::before {content: \"\";position: absolute;border-left: 1px solid gray;box-sizing: border-box;top: 0;bottom: 0;left: 50%;z-index: -1;}#sk-container-id-1 div.sk-parallel-item {display: flex;flex-direction: column;z-index: 1;position: relative;background-color: white;}#sk-container-id-1 div.sk-parallel-item:first-child::after {align-self: flex-end;width: 50%;}#sk-container-id-1 div.sk-parallel-item:last-child::after {align-self: flex-start;width: 50%;}#sk-container-id-1 div.sk-parallel-item:only-child::after {width: 0;}#sk-container-id-1 div.sk-dashed-wrapped {border: 1px dashed gray;margin: 0 0.4em 0.5em 0.4em;box-sizing: border-box;padding-bottom: 0.4em;background-color: white;}#sk-container-id-1 div.sk-label label {font-family: monospace;font-weight: bold;display: inline-block;line-height: 1.2em;}#sk-container-id-1 div.sk-label-container {text-align: center;}#sk-container-id-1 div.sk-container {/* jupyter's `normalize.less` sets `[hidden] { display: none; }` but bootstrap.min.css set `[hidden] { display: none !important; }` so we also need the `!important` here to be able to override the default hidden behavior on the sphinx rendered scikit-learn.org. See: https://github.com/scikit-learn/scikit-learn/issues/21755 */display: inline-block !important;position: relative;}#sk-container-id-1 div.sk-text-repr-fallback {display: none;}</style><div id=\"sk-container-id-1\" class=\"sk-top-container\"><div class=\"sk-text-repr-fallback\"><pre>RandomizedSearchCV(estimator=Pipeline(steps=[(&#x27;countvectorizer&#x27;,\n",
       "                                              CountVectorizer(token_pattern=&#x27;\\\\S+&#x27;)),\n",
       "                                             (&#x27;multinomialnb&#x27;,\n",
       "                                              MultinomialNB())]),\n",
       "                   n_jobs=-1,\n",
       "                   param_distributions={&#x27;countvectorizer__max_df&#x27;: &lt;scipy.stats._distn_infrastructure.rv_continuous_frozen object at 0x2b3631ef3e80&gt;,\n",
       "                                        &#x27;countvectorizer__min_df&#x27;: &lt;scipy.stats._distn_infrastructure.rv_discrete_frozen object at 0x2b3624ce77c0&gt;,\n",
       "                                        &#x27;multinomialnb__alpha&#x27;: &lt;scipy.stats._distn_infrastructure.rv_continuous_frozen object at 0x2b3632339d80&gt;},\n",
       "                   scoring=&#x27;f1_macro&#x27;)</pre><b>In a Jupyter environment, please rerun this cell to show the HTML representation or trust the notebook. <br />On GitHub, the HTML representation is unable to render, please try loading this page with nbviewer.org.</b></div><div class=\"sk-container\" hidden><div class=\"sk-item sk-dashed-wrapped\"><div class=\"sk-label-container\"><div class=\"sk-label sk-toggleable\"><input class=\"sk-toggleable__control sk-hidden--visually\" id=\"sk-estimator-id-1\" type=\"checkbox\" ><label for=\"sk-estimator-id-1\" class=\"sk-toggleable__label sk-toggleable__label-arrow\">RandomizedSearchCV</label><div class=\"sk-toggleable__content\"><pre>RandomizedSearchCV(estimator=Pipeline(steps=[(&#x27;countvectorizer&#x27;,\n",
       "                                              CountVectorizer(token_pattern=&#x27;\\\\S+&#x27;)),\n",
       "                                             (&#x27;multinomialnb&#x27;,\n",
       "                                              MultinomialNB())]),\n",
       "                   n_jobs=-1,\n",
       "                   param_distributions={&#x27;countvectorizer__max_df&#x27;: &lt;scipy.stats._distn_infrastructure.rv_continuous_frozen object at 0x2b3631ef3e80&gt;,\n",
       "                                        &#x27;countvectorizer__min_df&#x27;: &lt;scipy.stats._distn_infrastructure.rv_discrete_frozen object at 0x2b3624ce77c0&gt;,\n",
       "                                        &#x27;multinomialnb__alpha&#x27;: &lt;scipy.stats._distn_infrastructure.rv_continuous_frozen object at 0x2b3632339d80&gt;},\n",
       "                   scoring=&#x27;f1_macro&#x27;)</pre></div></div></div><div class=\"sk-parallel\"><div class=\"sk-parallel-item\"><div class=\"sk-item\"><div class=\"sk-label-container\"><div class=\"sk-label sk-toggleable\"><input class=\"sk-toggleable__control sk-hidden--visually\" id=\"sk-estimator-id-2\" type=\"checkbox\" ><label for=\"sk-estimator-id-2\" class=\"sk-toggleable__label sk-toggleable__label-arrow\">estimator: Pipeline</label><div class=\"sk-toggleable__content\"><pre>Pipeline(steps=[(&#x27;countvectorizer&#x27;, CountVectorizer(token_pattern=&#x27;\\\\S+&#x27;)),\n",
       "                (&#x27;multinomialnb&#x27;, MultinomialNB())])</pre></div></div></div><div class=\"sk-serial\"><div class=\"sk-item\"><div class=\"sk-serial\"><div class=\"sk-item\"><div class=\"sk-estimator sk-toggleable\"><input class=\"sk-toggleable__control sk-hidden--visually\" id=\"sk-estimator-id-3\" type=\"checkbox\" ><label for=\"sk-estimator-id-3\" class=\"sk-toggleable__label sk-toggleable__label-arrow\">CountVectorizer</label><div class=\"sk-toggleable__content\"><pre>CountVectorizer(token_pattern=&#x27;\\\\S+&#x27;)</pre></div></div></div><div class=\"sk-item\"><div class=\"sk-estimator sk-toggleable\"><input class=\"sk-toggleable__control sk-hidden--visually\" id=\"sk-estimator-id-4\" type=\"checkbox\" ><label for=\"sk-estimator-id-4\" class=\"sk-toggleable__label sk-toggleable__label-arrow\">MultinomialNB</label><div class=\"sk-toggleable__content\"><pre>MultinomialNB()</pre></div></div></div></div></div></div></div></div></div></div></div></div>"
      ],
      "text/plain": [
       "RandomizedSearchCV(estimator=Pipeline(steps=[('countvectorizer',\n",
       "                                              CountVectorizer(token_pattern='\\\\S+')),\n",
       "                                             ('multinomialnb',\n",
       "                                              MultinomialNB())]),\n",
       "                   n_jobs=-1,\n",
       "                   param_distributions={'countvectorizer__max_df': <scipy.stats._distn_infrastructure.rv_continuous_frozen object at 0x2b3631ef3e80>,\n",
       "                                        'countvectorizer__min_df': <scipy.stats._distn_infrastructure.rv_discrete_frozen object at 0x2b3624ce77c0>,\n",
       "                                        'multinomialnb__alpha': <scipy.stats._distn_infrastructure.rv_continuous_frozen object at 0x2b3632339d80>},\n",
       "                   scoring='f1_macro')"
      ]
     },
     "execution_count": 11,
     "metadata": {},
     "output_type": "execute_result"
    }
   ],
   "source": [
    "search = RandomizedSearchCV(\n",
    "    mnb,\n",
    "    {\n",
    "        \"countvectorizer__min_df\": randint(1, 10),\n",
    "        \"countvectorizer__max_df\": uniform(0.5, 0.5),\n",
    "        \"multinomialnb__alpha\": loguniform(1e-8, 1.0),\n",
    "    },\n",
    "    n_iter=10,\n",
    "    n_jobs=-1,\n",
    "    scoring=\"f1_macro\",\n",
    ")\n",
    "\n",
    "search.fit(train[\"tokens\"], train[\"topics\"])"
   ]
  },
  {
   "cell_type": "code",
   "execution_count": 12,
   "id": "050df3b7-5881-49ed-b26c-cff536816ab1",
   "metadata": {},
   "outputs": [
    {
     "name": "stdout",
     "output_type": "stream",
     "text": [
      "              precision    recall  f1-score   support\n",
      "\n",
      "        CCAT       0.97      0.95      0.96      1475\n",
      "        ECAT       0.92      0.74      0.82       268\n",
      "        GCAT       0.92      0.98      0.95       806\n",
      "        MCAT       0.92      0.97      0.95       820\n",
      "\n",
      "    accuracy                           0.94      3369\n",
      "   macro avg       0.93      0.91      0.92      3369\n",
      "weighted avg       0.94      0.94      0.94      3369\n",
      "\n"
     ]
    }
   ],
   "source": [
    "mnb.set_params(**search.best_params_)\n",
    "mnb.fit(train[\"tokens\"], train[\"topics\"])\n",
    "predicted = mnb.predict(test[\"tokens\"])\n",
    "print(classification_report(test[\"topics\"], predicted))\n",
    "# macro avg 92 now"
   ]
  },
  {
   "cell_type": "markdown",
   "id": "c414de9b-79f4-469c-a91b-5c179b8046cf",
   "metadata": {},
   "source": [
    "-------\n",
    "\n",
    "## SGDClassifier"
   ]
  },
  {
   "cell_type": "code",
   "execution_count": 13,
   "id": "835a24b3-8150-430e-ab73-1d3e0c82c825",
   "metadata": {},
   "outputs": [],
   "source": [
    "from sklearn.linear_model import SGDClassifier"
   ]
  },
  {
   "cell_type": "code",
   "execution_count": 14,
   "id": "b47b163a-3d37-440f-a266-ca908615623a",
   "metadata": {},
   "outputs": [
    {
     "name": "stdout",
     "output_type": "stream",
     "text": [
      "              precision    recall  f1-score   support\n",
      "\n",
      "        CCAT       0.97      0.96      0.97      1475\n",
      "        ECAT       0.90      0.87      0.89       268\n",
      "        GCAT       0.96      0.98      0.97       806\n",
      "        MCAT       0.95      0.96      0.96       820\n",
      "\n",
      "    accuracy                           0.96      3369\n",
      "   macro avg       0.95      0.94      0.94      3369\n",
      "weighted avg       0.96      0.96      0.96      3369\n",
      "\n"
     ]
    }
   ],
   "source": [
    "sgd = make_pipeline(CountVectorizer(token_pattern=r\"\\S+\"), SGDClassifier())\n",
    "sgd.fit(train[\"tokens\"], train[\"topics\"])\n",
    "predicted = sgd.predict(test[\"tokens\"])\n",
    "print(classification_report(test[\"topics\"], predicted))\n",
    "# 94 macro"
   ]
  },
  {
   "cell_type": "markdown",
   "id": "a1263d48-c253-42a7-be43-1bd7526db878",
   "metadata": {},
   "source": [
    "### Hyperparameter search"
   ]
  },
  {
   "cell_type": "code",
   "execution_count": 15,
   "id": "6211006f-1541-4bc8-bd9b-106519d37070",
   "metadata": {},
   "outputs": [
    {
     "data": {
      "text/html": [
       "<style>#sk-container-id-2 {color: black;background-color: white;}#sk-container-id-2 pre{padding: 0;}#sk-container-id-2 div.sk-toggleable {background-color: white;}#sk-container-id-2 label.sk-toggleable__label {cursor: pointer;display: block;width: 100%;margin-bottom: 0;padding: 0.3em;box-sizing: border-box;text-align: center;}#sk-container-id-2 label.sk-toggleable__label-arrow:before {content: \"▸\";float: left;margin-right: 0.25em;color: #696969;}#sk-container-id-2 label.sk-toggleable__label-arrow:hover:before {color: black;}#sk-container-id-2 div.sk-estimator:hover label.sk-toggleable__label-arrow:before {color: black;}#sk-container-id-2 div.sk-toggleable__content {max-height: 0;max-width: 0;overflow: hidden;text-align: left;background-color: #f0f8ff;}#sk-container-id-2 div.sk-toggleable__content pre {margin: 0.2em;color: black;border-radius: 0.25em;background-color: #f0f8ff;}#sk-container-id-2 input.sk-toggleable__control:checked~div.sk-toggleable__content {max-height: 200px;max-width: 100%;overflow: auto;}#sk-container-id-2 input.sk-toggleable__control:checked~label.sk-toggleable__label-arrow:before {content: \"▾\";}#sk-container-id-2 div.sk-estimator input.sk-toggleable__control:checked~label.sk-toggleable__label {background-color: #d4ebff;}#sk-container-id-2 div.sk-label input.sk-toggleable__control:checked~label.sk-toggleable__label {background-color: #d4ebff;}#sk-container-id-2 input.sk-hidden--visually {border: 0;clip: rect(1px 1px 1px 1px);clip: rect(1px, 1px, 1px, 1px);height: 1px;margin: -1px;overflow: hidden;padding: 0;position: absolute;width: 1px;}#sk-container-id-2 div.sk-estimator {font-family: monospace;background-color: #f0f8ff;border: 1px dotted black;border-radius: 0.25em;box-sizing: border-box;margin-bottom: 0.5em;}#sk-container-id-2 div.sk-estimator:hover {background-color: #d4ebff;}#sk-container-id-2 div.sk-parallel-item::after {content: \"\";width: 100%;border-bottom: 1px solid gray;flex-grow: 1;}#sk-container-id-2 div.sk-label:hover label.sk-toggleable__label {background-color: #d4ebff;}#sk-container-id-2 div.sk-serial::before {content: \"\";position: absolute;border-left: 1px solid gray;box-sizing: border-box;top: 0;bottom: 0;left: 50%;z-index: 0;}#sk-container-id-2 div.sk-serial {display: flex;flex-direction: column;align-items: center;background-color: white;padding-right: 0.2em;padding-left: 0.2em;position: relative;}#sk-container-id-2 div.sk-item {position: relative;z-index: 1;}#sk-container-id-2 div.sk-parallel {display: flex;align-items: stretch;justify-content: center;background-color: white;position: relative;}#sk-container-id-2 div.sk-item::before, #sk-container-id-2 div.sk-parallel-item::before {content: \"\";position: absolute;border-left: 1px solid gray;box-sizing: border-box;top: 0;bottom: 0;left: 50%;z-index: -1;}#sk-container-id-2 div.sk-parallel-item {display: flex;flex-direction: column;z-index: 1;position: relative;background-color: white;}#sk-container-id-2 div.sk-parallel-item:first-child::after {align-self: flex-end;width: 50%;}#sk-container-id-2 div.sk-parallel-item:last-child::after {align-self: flex-start;width: 50%;}#sk-container-id-2 div.sk-parallel-item:only-child::after {width: 0;}#sk-container-id-2 div.sk-dashed-wrapped {border: 1px dashed gray;margin: 0 0.4em 0.5em 0.4em;box-sizing: border-box;padding-bottom: 0.4em;background-color: white;}#sk-container-id-2 div.sk-label label {font-family: monospace;font-weight: bold;display: inline-block;line-height: 1.2em;}#sk-container-id-2 div.sk-label-container {text-align: center;}#sk-container-id-2 div.sk-container {/* jupyter's `normalize.less` sets `[hidden] { display: none; }` but bootstrap.min.css set `[hidden] { display: none !important; }` so we also need the `!important` here to be able to override the default hidden behavior on the sphinx rendered scikit-learn.org. See: https://github.com/scikit-learn/scikit-learn/issues/21755 */display: inline-block !important;position: relative;}#sk-container-id-2 div.sk-text-repr-fallback {display: none;}</style><div id=\"sk-container-id-2\" class=\"sk-top-container\"><div class=\"sk-text-repr-fallback\"><pre>RandomizedSearchCV(estimator=Pipeline(steps=[(&#x27;countvectorizer&#x27;,\n",
       "                                              CountVectorizer(token_pattern=&#x27;\\\\S+&#x27;)),\n",
       "                                             (&#x27;sgdclassifier&#x27;,\n",
       "                                              SGDClassifier())]),\n",
       "                   n_iter=5, n_jobs=-1,\n",
       "                   param_distributions={&#x27;sgdclassifier__alpha&#x27;: &lt;scipy.stats._distn_infrastructure.rv_continuous_frozen object at 0x2b3632338310&gt;},\n",
       "                   scoring=&#x27;f1_macro&#x27;)</pre><b>In a Jupyter environment, please rerun this cell to show the HTML representation or trust the notebook. <br />On GitHub, the HTML representation is unable to render, please try loading this page with nbviewer.org.</b></div><div class=\"sk-container\" hidden><div class=\"sk-item sk-dashed-wrapped\"><div class=\"sk-label-container\"><div class=\"sk-label sk-toggleable\"><input class=\"sk-toggleable__control sk-hidden--visually\" id=\"sk-estimator-id-5\" type=\"checkbox\" ><label for=\"sk-estimator-id-5\" class=\"sk-toggleable__label sk-toggleable__label-arrow\">RandomizedSearchCV</label><div class=\"sk-toggleable__content\"><pre>RandomizedSearchCV(estimator=Pipeline(steps=[(&#x27;countvectorizer&#x27;,\n",
       "                                              CountVectorizer(token_pattern=&#x27;\\\\S+&#x27;)),\n",
       "                                             (&#x27;sgdclassifier&#x27;,\n",
       "                                              SGDClassifier())]),\n",
       "                   n_iter=5, n_jobs=-1,\n",
       "                   param_distributions={&#x27;sgdclassifier__alpha&#x27;: &lt;scipy.stats._distn_infrastructure.rv_continuous_frozen object at 0x2b3632338310&gt;},\n",
       "                   scoring=&#x27;f1_macro&#x27;)</pre></div></div></div><div class=\"sk-parallel\"><div class=\"sk-parallel-item\"><div class=\"sk-item\"><div class=\"sk-label-container\"><div class=\"sk-label sk-toggleable\"><input class=\"sk-toggleable__control sk-hidden--visually\" id=\"sk-estimator-id-6\" type=\"checkbox\" ><label for=\"sk-estimator-id-6\" class=\"sk-toggleable__label sk-toggleable__label-arrow\">estimator: Pipeline</label><div class=\"sk-toggleable__content\"><pre>Pipeline(steps=[(&#x27;countvectorizer&#x27;, CountVectorizer(token_pattern=&#x27;\\\\S+&#x27;)),\n",
       "                (&#x27;sgdclassifier&#x27;, SGDClassifier())])</pre></div></div></div><div class=\"sk-serial\"><div class=\"sk-item\"><div class=\"sk-serial\"><div class=\"sk-item\"><div class=\"sk-estimator sk-toggleable\"><input class=\"sk-toggleable__control sk-hidden--visually\" id=\"sk-estimator-id-7\" type=\"checkbox\" ><label for=\"sk-estimator-id-7\" class=\"sk-toggleable__label sk-toggleable__label-arrow\">CountVectorizer</label><div class=\"sk-toggleable__content\"><pre>CountVectorizer(token_pattern=&#x27;\\\\S+&#x27;)</pre></div></div></div><div class=\"sk-item\"><div class=\"sk-estimator sk-toggleable\"><input class=\"sk-toggleable__control sk-hidden--visually\" id=\"sk-estimator-id-8\" type=\"checkbox\" ><label for=\"sk-estimator-id-8\" class=\"sk-toggleable__label sk-toggleable__label-arrow\">SGDClassifier</label><div class=\"sk-toggleable__content\"><pre>SGDClassifier()</pre></div></div></div></div></div></div></div></div></div></div></div></div>"
      ],
      "text/plain": [
       "RandomizedSearchCV(estimator=Pipeline(steps=[('countvectorizer',\n",
       "                                              CountVectorizer(token_pattern='\\\\S+')),\n",
       "                                             ('sgdclassifier',\n",
       "                                              SGDClassifier())]),\n",
       "                   n_iter=5, n_jobs=-1,\n",
       "                   param_distributions={'sgdclassifier__alpha': <scipy.stats._distn_infrastructure.rv_continuous_frozen object at 0x2b3632338310>},\n",
       "                   scoring='f1_macro')"
      ]
     },
     "execution_count": 15,
     "metadata": {},
     "output_type": "execute_result"
    }
   ],
   "source": [
    "search = RandomizedSearchCV(\n",
    "    sgd,\n",
    "    {\n",
    "        \"sgdclassifier__alpha\": loguniform(1e-8, 1.0),\n",
    "    },\n",
    "    n_iter=5,\n",
    "    n_jobs=-1,\n",
    "    scoring=\"f1_macro\",\n",
    ")\n",
    "\n",
    "search.fit(train[\"tokens\"], train[\"topics\"])\n",
    "# without n grams"
   ]
  },
  {
   "cell_type": "code",
   "execution_count": 16,
   "id": "df29db7e-157b-4e5f-9e91-76202ed2a5e8",
   "metadata": {},
   "outputs": [
    {
     "data": {
      "text/plain": [
       "<Axes: xlabel='param_sgdclassifier__alpha', ylabel='mean_test_score'>"
      ]
     },
     "execution_count": 16,
     "metadata": {},
     "output_type": "execute_result"
    },
    {
     "data": {
      "image/png": "[encoded data removed]",
      "text/plain": [
       "<Figure size 640x480 with 1 Axes>"
      ]
     },
     "metadata": {},
     "output_type": "display_data"
    }
   ],
   "source": [
    "cv_results = pd.DataFrame(search.cv_results_)\n",
    "cv_results.plot(\n",
    "    \"param_sgdclassifier__alpha\", \"mean_test_score\", kind=\"scatter\", logx=True\n",
    ")"
   ]
  },
  {
   "cell_type": "code",
   "execution_count": 17,
   "id": "03d649c1-0ef4-4869-b83f-09728618df6c",
   "metadata": {},
   "outputs": [],
   "source": [
    "# good values are at 0.947"
   ]
  },
  {
   "cell_type": "code",
   "execution_count": 18,
   "id": "57a81df2-b6f1-4a77-9de6-2c6c76ea25bf",
   "metadata": {},
   "outputs": [
    {
     "data": {
      "text/html": [
       "<style>#sk-container-id-3 {color: black;background-color: white;}#sk-container-id-3 pre{padding: 0;}#sk-container-id-3 div.sk-toggleable {background-color: white;}#sk-container-id-3 label.sk-toggleable__label {cursor: pointer;display: block;width: 100%;margin-bottom: 0;padding: 0.3em;box-sizing: border-box;text-align: center;}#sk-container-id-3 label.sk-toggleable__label-arrow:before {content: \"▸\";float: left;margin-right: 0.25em;color: #696969;}#sk-container-id-3 label.sk-toggleable__label-arrow:hover:before {color: black;}#sk-container-id-3 div.sk-estimator:hover label.sk-toggleable__label-arrow:before {color: black;}#sk-container-id-3 div.sk-toggleable__content {max-height: 0;max-width: 0;overflow: hidden;text-align: left;background-color: #f0f8ff;}#sk-container-id-3 div.sk-toggleable__content pre {margin: 0.2em;color: black;border-radius: 0.25em;background-color: #f0f8ff;}#sk-container-id-3 input.sk-toggleable__control:checked~div.sk-toggleable__content {max-height: 200px;max-width: 100%;overflow: auto;}#sk-container-id-3 input.sk-toggleable__control:checked~label.sk-toggleable__label-arrow:before {content: \"▾\";}#sk-container-id-3 div.sk-estimator input.sk-toggleable__control:checked~label.sk-toggleable__label {background-color: #d4ebff;}#sk-container-id-3 div.sk-label input.sk-toggleable__control:checked~label.sk-toggleable__label {background-color: #d4ebff;}#sk-container-id-3 input.sk-hidden--visually {border: 0;clip: rect(1px 1px 1px 1px);clip: rect(1px, 1px, 1px, 1px);height: 1px;margin: -1px;overflow: hidden;padding: 0;position: absolute;width: 1px;}#sk-container-id-3 div.sk-estimator {font-family: monospace;background-color: #f0f8ff;border: 1px dotted black;border-radius: 0.25em;box-sizing: border-box;margin-bottom: 0.5em;}#sk-container-id-3 div.sk-estimator:hover {background-color: #d4ebff;}#sk-container-id-3 div.sk-parallel-item::after {content: \"\";width: 100%;border-bottom: 1px solid gray;flex-grow: 1;}#sk-container-id-3 div.sk-label:hover label.sk-toggleable__label {background-color: #d4ebff;}#sk-container-id-3 div.sk-serial::before {content: \"\";position: absolute;border-left: 1px solid gray;box-sizing: border-box;top: 0;bottom: 0;left: 50%;z-index: 0;}#sk-container-id-3 div.sk-serial {display: flex;flex-direction: column;align-items: center;background-color: white;padding-right: 0.2em;padding-left: 0.2em;position: relative;}#sk-container-id-3 div.sk-item {position: relative;z-index: 1;}#sk-container-id-3 div.sk-parallel {display: flex;align-items: stretch;justify-content: center;background-color: white;position: relative;}#sk-container-id-3 div.sk-item::before, #sk-container-id-3 div.sk-parallel-item::before {content: \"\";position: absolute;border-left: 1px solid gray;box-sizing: border-box;top: 0;bottom: 0;left: 50%;z-index: -1;}#sk-container-id-3 div.sk-parallel-item {display: flex;flex-direction: column;z-index: 1;position: relative;background-color: white;}#sk-container-id-3 div.sk-parallel-item:first-child::after {align-self: flex-end;width: 50%;}#sk-container-id-3 div.sk-parallel-item:last-child::after {align-self: flex-start;width: 50%;}#sk-container-id-3 div.sk-parallel-item:only-child::after {width: 0;}#sk-container-id-3 div.sk-dashed-wrapped {border: 1px dashed gray;margin: 0 0.4em 0.5em 0.4em;box-sizing: border-box;padding-bottom: 0.4em;background-color: white;}#sk-container-id-3 div.sk-label label {font-family: monospace;font-weight: bold;display: inline-block;line-height: 1.2em;}#sk-container-id-3 div.sk-label-container {text-align: center;}#sk-container-id-3 div.sk-container {/* jupyter's `normalize.less` sets `[hidden] { display: none; }` but bootstrap.min.css set `[hidden] { display: none !important; }` so we also need the `!important` here to be able to override the default hidden behavior on the sphinx rendered scikit-learn.org. See: https://github.com/scikit-learn/scikit-learn/issues/21755 */display: inline-block !important;position: relative;}#sk-container-id-3 div.sk-text-repr-fallback {display: none;}</style><div id=\"sk-container-id-3\" class=\"sk-top-container\"><div class=\"sk-text-repr-fallback\"><pre>RandomizedSearchCV(estimator=Pipeline(steps=[(&#x27;countvectorizer&#x27;,\n",
       "                                              CountVectorizer(token_pattern=&#x27;\\\\S+&#x27;)),\n",
       "                                             (&#x27;sgdclassifier&#x27;,\n",
       "                                              SGDClassifier())]),\n",
       "                   n_iter=5, n_jobs=-1,\n",
       "                   param_distributions={&#x27;countvectorizer__ngram_range&#x27;: [(1,\n",
       "                                                                          2)],\n",
       "                                        &#x27;sgdclassifier__alpha&#x27;: &lt;scipy.stats._distn_infrastructure.rv_continuous_frozen object at 0x2b364503c850&gt;},\n",
       "                   scoring=&#x27;f1_macro&#x27;)</pre><b>In a Jupyter environment, please rerun this cell to show the HTML representation or trust the notebook. <br />On GitHub, the HTML representation is unable to render, please try loading this page with nbviewer.org.</b></div><div class=\"sk-container\" hidden><div class=\"sk-item sk-dashed-wrapped\"><div class=\"sk-label-container\"><div class=\"sk-label sk-toggleable\"><input class=\"sk-toggleable__control sk-hidden--visually\" id=\"sk-estimator-id-9\" type=\"checkbox\" ><label for=\"sk-estimator-id-9\" class=\"sk-toggleable__label sk-toggleable__label-arrow\">RandomizedSearchCV</label><div class=\"sk-toggleable__content\"><pre>RandomizedSearchCV(estimator=Pipeline(steps=[(&#x27;countvectorizer&#x27;,\n",
       "                                              CountVectorizer(token_pattern=&#x27;\\\\S+&#x27;)),\n",
       "                                             (&#x27;sgdclassifier&#x27;,\n",
       "                                              SGDClassifier())]),\n",
       "                   n_iter=5, n_jobs=-1,\n",
       "                   param_distributions={&#x27;countvectorizer__ngram_range&#x27;: [(1,\n",
       "                                                                          2)],\n",
       "                                        &#x27;sgdclassifier__alpha&#x27;: &lt;scipy.stats._distn_infrastructure.rv_continuous_frozen object at 0x2b364503c850&gt;},\n",
       "                   scoring=&#x27;f1_macro&#x27;)</pre></div></div></div><div class=\"sk-parallel\"><div class=\"sk-parallel-item\"><div class=\"sk-item\"><div class=\"sk-label-container\"><div class=\"sk-label sk-toggleable\"><input class=\"sk-toggleable__control sk-hidden--visually\" id=\"sk-estimator-id-10\" type=\"checkbox\" ><label for=\"sk-estimator-id-10\" class=\"sk-toggleable__label sk-toggleable__label-arrow\">estimator: Pipeline</label><div class=\"sk-toggleable__content\"><pre>Pipeline(steps=[(&#x27;countvectorizer&#x27;, CountVectorizer(token_pattern=&#x27;\\\\S+&#x27;)),\n",
       "                (&#x27;sgdclassifier&#x27;, SGDClassifier())])</pre></div></div></div><div class=\"sk-serial\"><div class=\"sk-item\"><div class=\"sk-serial\"><div class=\"sk-item\"><div class=\"sk-estimator sk-toggleable\"><input class=\"sk-toggleable__control sk-hidden--visually\" id=\"sk-estimator-id-11\" type=\"checkbox\" ><label for=\"sk-estimator-id-11\" class=\"sk-toggleable__label sk-toggleable__label-arrow\">CountVectorizer</label><div class=\"sk-toggleable__content\"><pre>CountVectorizer(token_pattern=&#x27;\\\\S+&#x27;)</pre></div></div></div><div class=\"sk-item\"><div class=\"sk-estimator sk-toggleable\"><input class=\"sk-toggleable__control sk-hidden--visually\" id=\"sk-estimator-id-12\" type=\"checkbox\" ><label for=\"sk-estimator-id-12\" class=\"sk-toggleable__label sk-toggleable__label-arrow\">SGDClassifier</label><div class=\"sk-toggleable__content\"><pre>SGDClassifier()</pre></div></div></div></div></div></div></div></div></div></div></div></div>"
      ],
      "text/plain": [
       "RandomizedSearchCV(estimator=Pipeline(steps=[('countvectorizer',\n",
       "                                              CountVectorizer(token_pattern='\\\\S+')),\n",
       "                                             ('sgdclassifier',\n",
       "                                              SGDClassifier())]),\n",
       "                   n_iter=5, n_jobs=-1,\n",
       "                   param_distributions={'countvectorizer__ngram_range': [(1,\n",
       "                                                                          2)],\n",
       "                                        'sgdclassifier__alpha': <scipy.stats._distn_infrastructure.rv_continuous_frozen object at 0x2b364503c850>},\n",
       "                   scoring='f1_macro')"
      ]
     },
     "execution_count": 18,
     "metadata": {},
     "output_type": "execute_result"
    }
   ],
   "source": [
    "search = RandomizedSearchCV(\n",
    "    sgd,\n",
    "    {\n",
    "        \"countvectorizer__ngram_range\": [(1, 2)],# setting n gram range 1, 2 word \n",
    "        \"sgdclassifier__alpha\": loguniform(1e-8, 1.0),\n",
    "    },\n",
    "    n_iter=5,\n",
    "    n_jobs=-1,\n",
    "    scoring=\"f1_macro\",\n",
    ")\n",
    "\n",
    "search.fit(train[\"tokens\"], train[\"topics\"])"
   ]
  },
  {
   "cell_type": "code",
   "execution_count": 19,
   "id": "a6a5e77a-2a9e-45f2-a4be-4771113498ce",
   "metadata": {},
   "outputs": [
    {
     "data": {
      "text/plain": [
       "<Axes: xlabel='param_sgdclassifier__alpha', ylabel='mean_test_score'>"
      ]
     },
     "execution_count": 19,
     "metadata": {},
     "output_type": "execute_result"
    },
    {
     "data": {
      "image/png": "[encoded data removed]",
      "text/plain": [
       "<Figure size 640x480 with 1 Axes>"
      ]
     },
     "metadata": {},
     "output_type": "display_data"
    }
   ],
   "source": [
    "cv_results = pd.DataFrame(search.cv_results_)\n",
    "cv_results.plot(\n",
    "    \"param_sgdclassifier__alpha\", \"mean_test_score\", kind=\"scatter\", logx=True\n",
    ")"
   ]
  },
  {
   "cell_type": "markdown",
   "id": "9268a98d-ab37-46bc-87f5-98505b8db7c4",
   "metadata": {},
   "source": [
    "### Optimized model"
   ]
  },
  {
   "cell_type": "code",
   "execution_count": 20,
   "id": "92486ceb-7fda-4eaf-800a-dce466c0d94d",
   "metadata": {},
   "outputs": [
    {
     "name": "stdout",
     "output_type": "stream",
     "text": [
      "              precision    recall  f1-score   support\n",
      "\n",
      "        CCAT       0.98      0.96      0.97      1475\n",
      "        ECAT       0.91      0.88      0.90       268\n",
      "        GCAT       0.96      0.98      0.97       806\n",
      "        MCAT       0.95      0.97      0.96       820\n",
      "\n",
      "    accuracy                           0.96      3369\n",
      "   macro avg       0.95      0.95      0.95      3369\n",
      "weighted avg       0.96      0.96      0.96      3369\n",
      "\n"
     ]
    }
   ],
   "source": [
    "sgd.set_params(countvectorizer__ngram_range=(1, 2), sgdclassifier__alpha=(1e-2))\n",
    "sgd.fit(train[\"tokens\"], train[\"topics\"])\n",
    "predicted = sgd.predict(test[\"tokens\"])\n",
    "print(classification_report(test[\"topics\"], predicted))"
   ]
  },
  {
   "cell_type": "markdown",
   "id": "67dadc63-62df-427d-a5cc-a65ba1e9185c",
   "metadata": {},
   "source": [
    "**SGD Classifier using Tfidf Vectorizer and Truncated SVD**"
   ]
  },
  {
   "cell_type": "code",
   "execution_count": 27,
   "id": "49adaf73-2738-4504-985e-1b0aff61c8e8",
   "metadata": {},
   "outputs": [],
   "source": [
    "from sklearn.decomposition import TruncatedSVD\n",
    "from sklearn.feature_extraction.text import TfidfVectorizer"
   ]
  },
  {
   "cell_type": "code",
   "execution_count": 28,
   "id": "fefc3827-e7e2-4616-907d-12302097cf4f",
   "metadata": {},
   "outputs": [
    {
     "name": "stdout",
     "output_type": "stream",
     "text": [
      "              precision    recall  f1-score   support\n",
      "\n",
      "        CCAT       0.96      0.96      0.96      1475\n",
      "        ECAT       0.92      0.80      0.86       268\n",
      "        GCAT       0.94      0.98      0.96       806\n",
      "        MCAT       0.94      0.96      0.95       820\n",
      "\n",
      "    accuracy                           0.95      3369\n",
      "   macro avg       0.94      0.92      0.93      3369\n",
      "weighted avg       0.95      0.95      0.95      3369\n",
      "\n"
     ]
    }
   ],
   "source": [
    "sgd2 = make_pipeline(TfidfVectorizer(token_pattern=r\"\\S+\"),TruncatedSVD(250, n_iter=30), SGDClassifier())\n",
    "sgd2.fit(train[\"tokens\"], train[\"topics\"])\n",
    "sgd_predicted = sgd2.predict(test[\"tokens\"])\n",
    "print(classification_report(test[\"topics\"], sgd_predicted))"
   ]
  },
  {
   "cell_type": "markdown",
   "id": "677fa571-e605-4c5e-9074-4e9a1ed2fa92",
   "metadata": {},
   "source": [
    "**Hyper Parameter Search**"
   ]
  },
  {
   "cell_type": "code",
   "execution_count": 29,
   "id": "6b447c94-ea74-4a5f-b240-2031c5aefb41",
   "metadata": {},
   "outputs": [
    {
     "data": {
      "text/html": [
       "<style>#sk-container-id-5 {color: black;background-color: white;}#sk-container-id-5 pre{padding: 0;}#sk-container-id-5 div.sk-toggleable {background-color: white;}#sk-container-id-5 label.sk-toggleable__label {cursor: pointer;display: block;width: 100%;margin-bottom: 0;padding: 0.3em;box-sizing: border-box;text-align: center;}#sk-container-id-5 label.sk-toggleable__label-arrow:before {content: \"▸\";float: left;margin-right: 0.25em;color: #696969;}#sk-container-id-5 label.sk-toggleable__label-arrow:hover:before {color: black;}#sk-container-id-5 div.sk-estimator:hover label.sk-toggleable__label-arrow:before {color: black;}#sk-container-id-5 div.sk-toggleable__content {max-height: 0;max-width: 0;overflow: hidden;text-align: left;background-color: #f0f8ff;}#sk-container-id-5 div.sk-toggleable__content pre {margin: 0.2em;color: black;border-radius: 0.25em;background-color: #f0f8ff;}#sk-container-id-5 input.sk-toggleable__control:checked~div.sk-toggleable__content {max-height: 200px;max-width: 100%;overflow: auto;}#sk-container-id-5 input.sk-toggleable__control:checked~label.sk-toggleable__label-arrow:before {content: \"▾\";}#sk-container-id-5 div.sk-estimator input.sk-toggleable__control:checked~label.sk-toggleable__label {background-color: #d4ebff;}#sk-container-id-5 div.sk-label input.sk-toggleable__control:checked~label.sk-toggleable__label {background-color: #d4ebff;}#sk-container-id-5 input.sk-hidden--visually {border: 0;clip: rect(1px 1px 1px 1px);clip: rect(1px, 1px, 1px, 1px);height: 1px;margin: -1px;overflow: hidden;padding: 0;position: absolute;width: 1px;}#sk-container-id-5 div.sk-estimator {font-family: monospace;background-color: #f0f8ff;border: 1px dotted black;border-radius: 0.25em;box-sizing: border-box;margin-bottom: 0.5em;}#sk-container-id-5 div.sk-estimator:hover {background-color: #d4ebff;}#sk-container-id-5 div.sk-parallel-item::after {content: \"\";width: 100%;border-bottom: 1px solid gray;flex-grow: 1;}#sk-container-id-5 div.sk-label:hover label.sk-toggleable__label {background-color: #d4ebff;}#sk-container-id-5 div.sk-serial::before {content: \"\";position: absolute;border-left: 1px solid gray;box-sizing: border-box;top: 0;bottom: 0;left: 50%;z-index: 0;}#sk-container-id-5 div.sk-serial {display: flex;flex-direction: column;align-items: center;background-color: white;padding-right: 0.2em;padding-left: 0.2em;position: relative;}#sk-container-id-5 div.sk-item {position: relative;z-index: 1;}#sk-container-id-5 div.sk-parallel {display: flex;align-items: stretch;justify-content: center;background-color: white;position: relative;}#sk-container-id-5 div.sk-item::before, #sk-container-id-5 div.sk-parallel-item::before {content: \"\";position: absolute;border-left: 1px solid gray;box-sizing: border-box;top: 0;bottom: 0;left: 50%;z-index: -1;}#sk-container-id-5 div.sk-parallel-item {display: flex;flex-direction: column;z-index: 1;position: relative;background-color: white;}#sk-container-id-5 div.sk-parallel-item:first-child::after {align-self: flex-end;width: 50%;}#sk-container-id-5 div.sk-parallel-item:last-child::after {align-self: flex-start;width: 50%;}#sk-container-id-5 div.sk-parallel-item:only-child::after {width: 0;}#sk-container-id-5 div.sk-dashed-wrapped {border: 1px dashed gray;margin: 0 0.4em 0.5em 0.4em;box-sizing: border-box;padding-bottom: 0.4em;background-color: white;}#sk-container-id-5 div.sk-label label {font-family: monospace;font-weight: bold;display: inline-block;line-height: 1.2em;}#sk-container-id-5 div.sk-label-container {text-align: center;}#sk-container-id-5 div.sk-container {/* jupyter's `normalize.less` sets `[hidden] { display: none; }` but bootstrap.min.css set `[hidden] { display: none !important; }` so we also need the `!important` here to be able to override the default hidden behavior on the sphinx rendered scikit-learn.org. See: https://github.com/scikit-learn/scikit-learn/issues/21755 */display: inline-block !important;position: relative;}#sk-container-id-5 div.sk-text-repr-fallback {display: none;}</style><div id=\"sk-container-id-5\" class=\"sk-top-container\"><div class=\"sk-text-repr-fallback\"><pre>RandomizedSearchCV(estimator=Pipeline(steps=[(&#x27;tfidfvectorizer&#x27;,\n",
       "                                              TfidfVectorizer(token_pattern=&#x27;\\\\S+&#x27;)),\n",
       "                                             (&#x27;truncatedsvd&#x27;,\n",
       "                                              TruncatedSVD(n_components=250,\n",
       "                                                           n_iter=30)),\n",
       "                                             (&#x27;sgdclassifier&#x27;,\n",
       "                                              SGDClassifier())]),\n",
       "                   n_iter=5, n_jobs=-1,\n",
       "                   param_distributions={&#x27;sgdclassifier__alpha&#x27;: &lt;scipy.stats._distn_infrastructure.rv_continuous_frozen object at 0x2b364ff650c0&gt;},\n",
       "                   scoring=&#x27;f1_macro&#x27;)</pre><b>In a Jupyter environment, please rerun this cell to show the HTML representation or trust the notebook. <br />On GitHub, the HTML representation is unable to render, please try loading this page with nbviewer.org.</b></div><div class=\"sk-container\" hidden><div class=\"sk-item sk-dashed-wrapped\"><div class=\"sk-label-container\"><div class=\"sk-label sk-toggleable\"><input class=\"sk-toggleable__control sk-hidden--visually\" id=\"sk-estimator-id-18\" type=\"checkbox\" ><label for=\"sk-estimator-id-18\" class=\"sk-toggleable__label sk-toggleable__label-arrow\">RandomizedSearchCV</label><div class=\"sk-toggleable__content\"><pre>RandomizedSearchCV(estimator=Pipeline(steps=[(&#x27;tfidfvectorizer&#x27;,\n",
       "                                              TfidfVectorizer(token_pattern=&#x27;\\\\S+&#x27;)),\n",
       "                                             (&#x27;truncatedsvd&#x27;,\n",
       "                                              TruncatedSVD(n_components=250,\n",
       "                                                           n_iter=30)),\n",
       "                                             (&#x27;sgdclassifier&#x27;,\n",
       "                                              SGDClassifier())]),\n",
       "                   n_iter=5, n_jobs=-1,\n",
       "                   param_distributions={&#x27;sgdclassifier__alpha&#x27;: &lt;scipy.stats._distn_infrastructure.rv_continuous_frozen object at 0x2b364ff650c0&gt;},\n",
       "                   scoring=&#x27;f1_macro&#x27;)</pre></div></div></div><div class=\"sk-parallel\"><div class=\"sk-parallel-item\"><div class=\"sk-item\"><div class=\"sk-label-container\"><div class=\"sk-label sk-toggleable\"><input class=\"sk-toggleable__control sk-hidden--visually\" id=\"sk-estimator-id-19\" type=\"checkbox\" ><label for=\"sk-estimator-id-19\" class=\"sk-toggleable__label sk-toggleable__label-arrow\">estimator: Pipeline</label><div class=\"sk-toggleable__content\"><pre>Pipeline(steps=[(&#x27;tfidfvectorizer&#x27;, TfidfVectorizer(token_pattern=&#x27;\\\\S+&#x27;)),\n",
       "                (&#x27;truncatedsvd&#x27;, TruncatedSVD(n_components=250, n_iter=30)),\n",
       "                (&#x27;sgdclassifier&#x27;, SGDClassifier())])</pre></div></div></div><div class=\"sk-serial\"><div class=\"sk-item\"><div class=\"sk-serial\"><div class=\"sk-item\"><div class=\"sk-estimator sk-toggleable\"><input class=\"sk-toggleable__control sk-hidden--visually\" id=\"sk-estimator-id-20\" type=\"checkbox\" ><label for=\"sk-estimator-id-20\" class=\"sk-toggleable__label sk-toggleable__label-arrow\">TfidfVectorizer</label><div class=\"sk-toggleable__content\"><pre>TfidfVectorizer(token_pattern=&#x27;\\\\S+&#x27;)</pre></div></div></div><div class=\"sk-item\"><div class=\"sk-estimator sk-toggleable\"><input class=\"sk-toggleable__control sk-hidden--visually\" id=\"sk-estimator-id-21\" type=\"checkbox\" ><label for=\"sk-estimator-id-21\" class=\"sk-toggleable__label sk-toggleable__label-arrow\">TruncatedSVD</label><div class=\"sk-toggleable__content\"><pre>TruncatedSVD(n_components=250, n_iter=30)</pre></div></div></div><div class=\"sk-item\"><div class=\"sk-estimator sk-toggleable\"><input class=\"sk-toggleable__control sk-hidden--visually\" id=\"sk-estimator-id-22\" type=\"checkbox\" ><label for=\"sk-estimator-id-22\" class=\"sk-toggleable__label sk-toggleable__label-arrow\">SGDClassifier</label><div class=\"sk-toggleable__content\"><pre>SGDClassifier()</pre></div></div></div></div></div></div></div></div></div></div></div></div>"
      ],
      "text/plain": [
       "RandomizedSearchCV(estimator=Pipeline(steps=[('tfidfvectorizer',\n",
       "                                              TfidfVectorizer(token_pattern='\\\\S+')),\n",
       "                                             ('truncatedsvd',\n",
       "                                              TruncatedSVD(n_components=250,\n",
       "                                                           n_iter=30)),\n",
       "                                             ('sgdclassifier',\n",
       "                                              SGDClassifier())]),\n",
       "                   n_iter=5, n_jobs=-1,\n",
       "                   param_distributions={'sgdclassifier__alpha': <scipy.stats._distn_infrastructure.rv_continuous_frozen object at 0x2b364ff650c0>},\n",
       "                   scoring='f1_macro')"
      ]
     },
     "execution_count": 29,
     "metadata": {},
     "output_type": "execute_result"
    }
   ],
   "source": [
    "search = RandomizedSearchCV(\n",
    "    sgd2,\n",
    "    {\n",
    "        \"sgdclassifier__alpha\": loguniform(1e-8, 1.0),\n",
    "    },\n",
    "    n_iter=5,\n",
    "    n_jobs=-1,\n",
    "    scoring=\"f1_macro\",\n",
    ")\n",
    "\n",
    "search.fit(train[\"tokens\"], train[\"topics\"])"
   ]
  },
  {
   "cell_type": "code",
   "execution_count": 30,
   "id": "04481cd7-3980-446a-9836-5808469bfa94",
   "metadata": {},
   "outputs": [
    {
     "data": {
      "text/plain": [
       "<Axes: xlabel='param_sgdclassifier__alpha', ylabel='mean_test_score'>"
      ]
     },
     "execution_count": 30,
     "metadata": {},
     "output_type": "execute_result"
    },
    {
     "data": {
      "image/png": "[encoded data removed]",
      "text/plain": [
       "<Figure size 640x480 with 1 Axes>"
      ]
     },
     "metadata": {},
     "output_type": "display_data"
    }
   ],
   "source": [
    "cv_results = pd.DataFrame(search.cv_results_)\n",
    "cv_results.plot(\n",
    "    \"param_sgdclassifier__alpha\", \"mean_test_score\", kind=\"scatter\", logx=True\n",
    ")"
   ]
  },
  {
   "cell_type": "code",
   "execution_count": 31,
   "id": "74a8f818-f12b-4a13-987d-8fda61d58f69",
   "metadata": {},
   "outputs": [
    {
     "data": {
      "text/html": [
       "<div>\n",
       "<style scoped>\n",
       "    .dataframe tbody tr th:only-of-type {\n",
       "        vertical-align: middle;\n",
       "    }\n",
       "\n",
       "    .dataframe tbody tr th {\n",
       "        vertical-align: top;\n",
       "    }\n",
       "\n",
       "    .dataframe thead th {\n",
       "        text-align: right;\n",
       "    }\n",
       "</style>\n",
       "<table border=\"1\" class=\"dataframe\">\n",
       "  <thead>\n",
       "    <tr style=\"text-align: right;\">\n",
       "      <th></th>\n",
       "      <th>mean_fit_time</th>\n",
       "      <th>std_fit_time</th>\n",
       "      <th>mean_score_time</th>\n",
       "      <th>std_score_time</th>\n",
       "      <th>param_sgdclassifier__alpha</th>\n",
       "      <th>params</th>\n",
       "      <th>split0_test_score</th>\n",
       "      <th>split1_test_score</th>\n",
       "      <th>split2_test_score</th>\n",
       "      <th>split3_test_score</th>\n",
       "      <th>split4_test_score</th>\n",
       "      <th>mean_test_score</th>\n",
       "      <th>std_test_score</th>\n",
       "      <th>rank_test_score</th>\n",
       "    </tr>\n",
       "  </thead>\n",
       "  <tbody>\n",
       "    <tr>\n",
       "      <th>0</th>\n",
       "      <td>193.869378</td>\n",
       "      <td>3.729620</td>\n",
       "      <td>1.223805</td>\n",
       "      <td>0.094408</td>\n",
       "      <td>0.002778</td>\n",
       "      <td>{'sgdclassifier__alpha': 0.0027776176686138327}</td>\n",
       "      <td>0.819394</td>\n",
       "      <td>0.827578</td>\n",
       "      <td>0.828892</td>\n",
       "      <td>0.804149</td>\n",
       "      <td>0.832034</td>\n",
       "      <td>0.822409</td>\n",
       "      <td>0.010039</td>\n",
       "      <td>5</td>\n",
       "    </tr>\n",
       "    <tr>\n",
       "      <th>1</th>\n",
       "      <td>159.436806</td>\n",
       "      <td>34.146658</td>\n",
       "      <td>0.861222</td>\n",
       "      <td>0.213212</td>\n",
       "      <td>0.0</td>\n",
       "      <td>{'sgdclassifier__alpha': 1.2288008593227042e-08}</td>\n",
       "      <td>0.931453</td>\n",
       "      <td>0.933560</td>\n",
       "      <td>0.945548</td>\n",
       "      <td>0.902618</td>\n",
       "      <td>0.912120</td>\n",
       "      <td>0.925060</td>\n",
       "      <td>0.015518</td>\n",
       "      <td>3</td>\n",
       "    </tr>\n",
       "    <tr>\n",
       "      <th>2</th>\n",
       "      <td>119.845157</td>\n",
       "      <td>1.878941</td>\n",
       "      <td>0.908093</td>\n",
       "      <td>0.227774</td>\n",
       "      <td>0.0</td>\n",
       "      <td>{'sgdclassifier__alpha': 1.5392328236584493e-08}</td>\n",
       "      <td>0.921425</td>\n",
       "      <td>0.932850</td>\n",
       "      <td>0.920331</td>\n",
       "      <td>0.928881</td>\n",
       "      <td>0.920264</td>\n",
       "      <td>0.924750</td>\n",
       "      <td>0.005165</td>\n",
       "      <td>4</td>\n",
       "    </tr>\n",
       "    <tr>\n",
       "      <th>3</th>\n",
       "      <td>98.072893</td>\n",
       "      <td>9.654914</td>\n",
       "      <td>0.704863</td>\n",
       "      <td>0.169259</td>\n",
       "      <td>0.0</td>\n",
       "      <td>{'sgdclassifier__alpha': 1.3855847499533094e-08}</td>\n",
       "      <td>0.941854</td>\n",
       "      <td>0.935055</td>\n",
       "      <td>0.944538</td>\n",
       "      <td>0.935643</td>\n",
       "      <td>0.939121</td>\n",
       "      <td>0.939242</td>\n",
       "      <td>0.003616</td>\n",
       "      <td>1</td>\n",
       "    </tr>\n",
       "    <tr>\n",
       "      <th>4</th>\n",
       "      <td>82.543834</td>\n",
       "      <td>21.691830</td>\n",
       "      <td>0.638430</td>\n",
       "      <td>0.310949</td>\n",
       "      <td>0.0</td>\n",
       "      <td>{'sgdclassifier__alpha': 2.7215326051423348e-08}</td>\n",
       "      <td>0.940624</td>\n",
       "      <td>0.933699</td>\n",
       "      <td>0.931136</td>\n",
       "      <td>0.910097</td>\n",
       "      <td>0.933759</td>\n",
       "      <td>0.929863</td>\n",
       "      <td>0.010373</td>\n",
       "      <td>2</td>\n",
       "    </tr>\n",
       "  </tbody>\n",
       "</table>\n",
       "</div>"
      ],
      "text/plain": [
       "   mean_fit_time  std_fit_time  mean_score_time  std_score_time  \\\n",
       "0     193.869378      3.729620         1.223805        0.094408   \n",
       "1     159.436806     34.146658         0.861222        0.213212   \n",
       "2     119.845157      1.878941         0.908093        0.227774   \n",
       "3      98.072893      9.654914         0.704863        0.169259   \n",
       "4      82.543834     21.691830         0.638430        0.310949   \n",
       "\n",
       "  param_sgdclassifier__alpha  \\\n",
       "0                   0.002778   \n",
       "1                        0.0   \n",
       "2                        0.0   \n",
       "3                        0.0   \n",
       "4                        0.0   \n",
       "\n",
       "                                             params  split0_test_score  \\\n",
       "0   {'sgdclassifier__alpha': 0.0027776176686138327}           0.819394   \n",
       "1  {'sgdclassifier__alpha': 1.2288008593227042e-08}           0.931453   \n",
       "2  {'sgdclassifier__alpha': 1.5392328236584493e-08}           0.921425   \n",
       "3  {'sgdclassifier__alpha': 1.3855847499533094e-08}           0.941854   \n",
       "4  {'sgdclassifier__alpha': 2.7215326051423348e-08}           0.940624   \n",
       "\n",
       "   split1_test_score  split2_test_score  split3_test_score  split4_test_score  \\\n",
       "0           0.827578           0.828892           0.804149           0.832034   \n",
       "1           0.933560           0.945548           0.902618           0.912120   \n",
       "2           0.932850           0.920331           0.928881           0.920264   \n",
       "3           0.935055           0.944538           0.935643           0.939121   \n",
       "4           0.933699           0.931136           0.910097           0.933759   \n",
       "\n",
       "   mean_test_score  std_test_score  rank_test_score  \n",
       "0         0.822409        0.010039                5  \n",
       "1         0.925060        0.015518                3  \n",
       "2         0.924750        0.005165                4  \n",
       "3         0.939242        0.003616                1  \n",
       "4         0.929863        0.010373                2  "
      ]
     },
     "execution_count": 31,
     "metadata": {},
     "output_type": "execute_result"
    }
   ],
   "source": [
    "cv_results"
   ]
  },
  {
   "cell_type": "code",
   "execution_count": 32,
   "id": "85ed8704-b61e-4221-8253-38e9f550207a",
   "metadata": {},
   "outputs": [
    {
     "data": {
      "text/plain": [
       "({'sgdclassifier__alpha': 1.3855847499533094e-08}, 0.9392422049648312)"
      ]
     },
     "execution_count": 32,
     "metadata": {},
     "output_type": "execute_result"
    }
   ],
   "source": [
    "search.best_params_, search.best_score_"
   ]
  },
  {
   "cell_type": "code",
   "execution_count": null,
   "id": "feb20809-77d4-454b-adf3-724ce12719d2",
   "metadata": {},
   "outputs": [],
   "source": [
    "search = RandomizedSearchCV(\n",
    "    sgd2,\n",
    "    {\n",
    "        \"sgdclassifier__alpha\": loguniform(1e-8, 1e-4),\n",
    "        \"tfidfvectorizer__min_df\": randint(0, 10),\n",
    "        \"tfidfvectorizer__max_df\": uniform(0.5, 0.5),\n",
    "        \"tfidfvectorizer__ngram_range\": [(1, 1), (1, 2), (2, 2)],\n",
    "        \"truncatedsvd__n_components\": [1, 10, 50, 100, 200, 300]\n",
    "    },\n",
    "    n_iter=25,\n",
    "    n_jobs=-1,\n",
    "    scoring=\"f1_macro\",\n",
    ")\n",
    "\n",
    "search.fit(train[\"tokens\"], train[\"topics\"])"
   ]
  },
  {
   "cell_type": "code",
   "execution_count": null,
   "id": "c277c68f-e51d-483d-8d26-600d7a9986e5",
   "metadata": {},
   "outputs": [],
   "source": [
    "search.best_params_, search.best_score_"
   ]
  },
  {
   "cell_type": "code",
   "execution_count": null,
   "id": "f36e0af2-d706-40b7-a8c0-1f28df20b225",
   "metadata": {},
   "outputs": [],
   "source": [
    "cv_results = pd.DataFrame(search.cv_results_)\n",
    "cv_results.plot(\n",
    "    \"param_sgdclassifier__alpha\", \"mean_test_score\", kind=\"scatter\", logx=True\n",
    ")"
   ]
  },
  {
   "cell_type": "code",
   "execution_count": null,
   "id": "e1bba3dd-5222-4b3e-8e9d-3269435f61b7",
   "metadata": {},
   "outputs": [],
   "source": [
    "cv_results.head(5)"
   ]
  },
  {
   "cell_type": "markdown",
   "id": "84c6afb6-757d-405b-83a4-a1a7f1b29979",
   "metadata": {},
   "source": [
    "**Optimized model**"
   ]
  },
  {
   "cell_type": "code",
   "execution_count": null,
   "id": "9a3bb929-418e-46c1-bce0-74d9665778d7",
   "metadata": {},
   "outputs": [],
   "source": [
    "sgd2.set_params(**search.best_params_))\n",
    "sgd2.fit(train[\"tokens\"], train[\"topics\"])\n",
    "sgd_tfidf_predicted = sgd2.predict(test[\"tokens\"])\n",
    "print(classification_report(test[\"topics\"], sgd_tfidf_predicted))"
   ]
  },
  {
   "cell_type": "code",
   "execution_count": null,
   "id": "d9153452-0177-408d-94de-789605a93600",
   "metadata": {},
   "outputs": [],
   "source": []
  },
  {
   "cell_type": "code",
   "execution_count": null,
   "id": "e0e061d2-8a84-4b60-8a1c-7debb3a7a79f",
   "metadata": {},
   "outputs": [],
   "source": []
  }
 ],
 "metadata": {
  "kernelspec": {
   "display_name": "Python 3 (ipykernel)",
   "language": "python",
   "name": "python3"
  },
  "language_info": {
   "codemirror_mode": {
    "name": "ipython",
    "version": 3
   },
   "file_extension": ".py",
   "mimetype": "text/x-python",
   "name": "python",
   "nbconvert_exporter": "python",
   "pygments_lexer": "ipython3",
   "version": "3.10.8"
  }
 },
 "nbformat": 4,
 "nbformat_minor": 5
}
