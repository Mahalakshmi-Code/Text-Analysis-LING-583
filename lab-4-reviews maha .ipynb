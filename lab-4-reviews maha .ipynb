{
 "cells": [
  {
   "cell_type": "markdown",
   "id": "e64c8111-ad50-41d3-9043-116df80188f0",
   "metadata": {},
   "source": [
    "# LAB 4: Topic modeling\n",
    "\n",
    "Use topic models to explore hotel reviews\n",
    "\n",
    "Objectives:\n",
    "\n",
    "- tokenize with MWEs using spacy\n",
    "- estimate LDA topic models with tomotopy\n",
    "- visualize and evaluate topic models\n",
    "- apply topic models to interpretation of hotel reviews"
   ]
  },
  {
   "cell_type": "code",
   "execution_count": 27,
   "id": "a21fe33b-4381-49df-90c9-665706b6eae1",
   "metadata": {},
   "outputs": [],
   "source": [
    "from collections import Counter\n",
    "\n",
    "import numpy as np\n",
    "import pandas as pd\n",
    "import tomotopy as tp\n",
    "from cytoolz import *\n",
    "from tqdm.auto import tqdm\n",
    "\n",
    "tqdm.pandas()"
   ]
  },
  {
   "cell_type": "markdown",
   "id": "deff05b5-91cb-42b5-be8e-3f2f21ce96a1",
   "metadata": {},
   "source": [
    "## Prepare data"
   ]
  },
  {
   "cell_type": "code",
   "execution_count": 28,
   "id": "c69b3c46-0b76-4116-86b5-9a237fecce3f",
   "metadata": {},
   "outputs": [],
   "source": [
    "df = pd.read_pickle(\"/data/hotels_id.pkl\")\n",
    "mdl = tp.LDAModel.load(\"hotel-topics.bin\")# loading lda and csv\n",
    "labels = list(pd.read_csv(\"labels.csv\")[\"label\"])"
   ]
  },
  {
   "cell_type": "code",
   "execution_count": 29,
   "id": "9b9285b0-bfad-4abd-9aad-287449f9a1ba",
   "metadata": {},
   "outputs": [
    {
     "data": {
      "text/plain": [
       "214197     1359\n",
       "93421       684\n",
       "223023      486\n",
       "93520       329\n",
       "111418      238\n",
       "112066      233\n",
       "99766       206\n",
       "93437       195\n",
       "99307       179\n",
       "119728      169\n",
       "93618       168\n",
       "80602       157\n",
       "1938661     156\n",
       "122007      147\n",
       "93450       145\n",
       "93466       145\n",
       "93464       144\n",
       "101653      143\n",
       "93356       139\n",
       "87595       132\n",
       "Name: offering_id, dtype: int64"
      ]
     },
     "execution_count": 29,
     "metadata": {},
     "output_type": "execute_result"
    }
   ],
   "source": [
    "df[df[\"overall\"] == 1][\"offering_id\"].value_counts().head(20)# hotel with 1 star reviews"
   ]
  },
  {
   "cell_type": "markdown",
   "id": "1e52f04f-ac0a-4f5b-bb60-7e1d88c25198",
   "metadata": {},
   "source": [
    "Pick a hotel with a lot of 1 star ratings (other than # 93520) and pull out all of its reviews"
   ]
  },
  {
   "cell_type": "code",
   "execution_count": 30,
   "id": "264a034e-ea24-4fe0-a837-c8a7b2da3560",
   "metadata": {},
   "outputs": [
    {
     "data": {
      "text/plain": [
       "4.0    826\n",
       "5.0    575\n",
       "3.0    448\n",
       "1.0    329\n",
       "2.0    313\n",
       "Name: overall, dtype: int64"
      ]
     },
     "execution_count": 30,
     "metadata": {},
     "output_type": "execute_result"
    }
   ],
   "source": [
    "hotel = df.query(\"offering_id==93520\").copy()# hotel # 9350\n",
    "hotel[\"overall\"].value_counts()"
   ]
  },
  {
   "cell_type": "code",
   "execution_count": 31,
   "id": "f33bd5ca-22e5-4be6-bb54-6a758cb75de5",
   "metadata": {},
   "outputs": [],
   "source": [
    "from tokenizer import MWETokenizer\n",
    "\n",
    "tokenizer = MWETokenizer(open(\"terms.txt\"))"
   ]
  },
  {
   "cell_type": "code",
   "execution_count": 32,
   "id": "bba965e1-dbc3-4cfd-b794-7dec4477aae1",
   "metadata": {},
   "outputs": [
    {
     "data": {
      "application/vnd.jupyter.widget-view+json": {
       "model_id": "689e6aa569b443c485df23a4a26ebba8",
       "version_major": 2,
       "version_minor": 0
      },
      "text/plain": [
       "  0%|          | 0/2491 [00:00<?, ?it/s]"
      ]
     },
     "metadata": {},
     "output_type": "display_data"
    }
   ],
   "source": [
    "hotel[\"tokens\"] = (hotel[\"title\"] + \" \" + hotel[\"text\"]).progress_apply(\n",
    "    tokenizer.tokenize\n",
    ")\n",
    "# tokenizing data"
   ]
  },
  {
   "cell_type": "code",
   "execution_count": 34,
   "id": "476d861c-0419-47f0-8fb6-dded4b494e0f",
   "metadata": {},
   "outputs": [
    {
     "data": {
      "text/plain": [
       "49680    [bedbugs, bedbugs, no, acknowledgement, no, bi...\n",
       "49681    [thank, goodness, for, joe, i, stayed, in, thi...\n",
       "49705    [perfect_location, great_staff, good_room, rig...\n",
       "49706    [excellent_location, and, great_service, defin...\n",
       "49707    [confusion, a, so, so, hotel, in, the, heart, ...\n",
       "Name: tokens, dtype: object"
      ]
     },
     "execution_count": 34,
     "metadata": {},
     "output_type": "execute_result"
    }
   ],
   "source": [
    "hotel[\"tokens\"].head()"
   ]
  },
  {
   "cell_type": "markdown",
   "id": "427032a9-8f84-403a-afed-dece2f1c594e",
   "metadata": {},
   "source": [
    "## Apply topic model"
   ]
  },
  {
   "cell_type": "code",
   "execution_count": 11,
   "id": "97799d62-085e-432b-89b2-e6f8011c2df2",
   "metadata": {},
   "outputs": [],
   "source": [
    "hotel[\"doc\"] = [mdl.make_doc(words=toks) for toks in hotel[\"tokens\"]]\n",
    "topic_dist, ll = mdl.infer(hotel[\"doc\"])"
   ]
  },
  {
   "cell_type": "markdown",
   "id": "0f65b5ac-884e-4687-b78f-c9af64b0e10f",
   "metadata": {},
   "source": [
    "## Interpret model\n",
    "\n",
    "What topics are associated with a review?"
   ]
  },
  {
   "cell_type": "code",
   "execution_count": 12,
   "id": "3a75e558-809e-4460-8a1b-6c65e8bcfcec",
   "metadata": {},
   "outputs": [
    {
     "data": {
      "text/plain": [
       "'Bedbugs!!!! No acknowledgement, no bill adjustment, just fill out a form for Security. I showed the manager a bite, and I am still itching like crazy! Only where my body was in contact with the bed did I have bites.'"
      ]
     },
     "execution_count": 12,
     "metadata": {},
     "output_type": "execute_result"
    }
   ],
   "source": [
    "hotel[\"text\"].iloc[0]"
   ]
  },
  {
   "cell_type": "code",
   "execution_count": 13,
   "id": "546ee15b-ac12-4cc6-8e5c-c592eb528897",
   "metadata": {},
   "outputs": [
    {
     "data": {
      "text/plain": [
       "[(40, 0.21920356154441833),\n",
       " (42, 0.10160670429468155),\n",
       " (21, 0.06386015564203262),\n",
       " (26, 0.06159566715359688),\n",
       " (48, 0.05676766484975815)]"
      ]
     },
     "execution_count": 13,
     "metadata": {},
     "output_type": "execute_result"
    }
   ],
   "source": [
    "hotel[\"doc\"].iloc[0].get_topics(top_n=5)# topic 33 20% of reviews"
   ]
  },
  {
   "cell_type": "code",
   "execution_count": 14,
   "id": "649e58b3-fdfa-4a46-a45a-9c2fda1f9851",
   "metadata": {},
   "outputs": [
    {
     "data": {
      "text/plain": [
       "[('front_desk', 0.03532785177230835),\n",
       " ('told', 0.03505776450037956),\n",
       " ('called', 0.031060485169291496),\n",
       " ('asked', 0.021985579282045364),\n",
       " ('call', 0.020419077947735786),\n",
       " ('never', 0.02036506123840809),\n",
       " ('them', 0.0200949739664793),\n",
       " ('said', 0.01755616068840027),\n",
       " ('down', 0.013180759735405445),\n",
       " ('another', 0.013126742094755173)]"
      ]
     },
     "execution_count": 14,
     "metadata": {},
     "output_type": "execute_result"
    }
   ],
   "source": [
    "mdl.get_topic_words(40)"
   ]
  },
  {
   "cell_type": "code",
   "execution_count": 16,
   "id": "99e239e3-0d6f-41bd-9997-376d6f210d21",
   "metadata": {},
   "outputs": [
    {
     "data": {
      "text/plain": [
       "[('am', 0.023971909657120705),\n",
       " ('them', 0.021705320104956627),\n",
       " ('people', 0.01980828121304512),\n",
       " ('their', 0.019266270101070404),\n",
       " ('because', 0.018108338117599487),\n",
       " ('know', 0.01611275225877762),\n",
       " ('sure', 0.015866383910179138),\n",
       " ('way', 0.015373646281659603),\n",
       " ('say', 0.01502873096615076),\n",
       " ('think', 0.014757725410163403)]"
      ]
     },
     "execution_count": 16,
     "metadata": {},
     "output_type": "execute_result"
    }
   ],
   "source": [
    "mdl.get_topic_words(42)"
   ]
  },
  {
   "cell_type": "code",
   "execution_count": 18,
   "id": "616f91f3-2516-4590-85fe-7d92d3834892",
   "metadata": {},
   "outputs": [
    {
     "data": {
      "text/plain": [
       "[('FRONT_DESK', 0.21920356154441833),\n",
       " ('AM', 0.10160670429468155),\n",
       " ('NOISE', 0.06386015564203262),\n",
       " ('REVIEWS', 0.06159566715359688),\n",
       " ('ELEVATOR', 0.05676766484975815)]"
      ]
     },
     "execution_count": 18,
     "metadata": {},
     "output_type": "execute_result"
    }
   ],
   "source": [
    "[(labels[x], y) for x, y in hotel[\"doc\"].iloc[0].get_topics(top_n=5)]\n",
    "# topic number changes"
   ]
  },
  {
   "cell_type": "markdown",
   "id": "7ed5a9b0-0d15-406c-a8f4-46705edd1393",
   "metadata": {},
   "source": [
    "What are the most common topics?"
   ]
  },
  {
   "cell_type": "code",
   "execution_count": 19,
   "id": "e0a7f96a-e713-4c60-8bc1-7264d2186d21",
   "metadata": {},
   "outputs": [],
   "source": [
    "hotel[\"topics\"] = [\n",
    "    [labels[t] for t in map(first, d.get_topics(3))] for d in hotel[\"doc\"]\n",
    "]"
   ]
  },
  {
   "cell_type": "code",
   "execution_count": 21,
   "id": "1ad017f7-5d74-4f13-9feb-2169ce4176e3",
   "metadata": {},
   "outputs": [
    {
     "data": {
      "text/plain": [
       "49680     [FRONT_DESK, AM, NOISE]\n",
       "49681             [AM, THEIR, HE]\n",
       "49705        [THEIR, NYC, SHOWER]\n",
       "49706     [RECOMMEND, THEIR, NYC]\n",
       "49707            [NYC, CHECK, 'D]\n",
       "                   ...           \n",
       "119799           [3, NYC, STREET]\n",
       "120641       [CHECK, BOOKED, ANY]\n",
       "122697           [PRICE, AM, BIT]\n",
       "123934             [BED, AM, BIT]\n",
       "128080            [FREE, AM, BIT]\n",
       "Name: topics, Length: 2491, dtype: object"
      ]
     },
     "execution_count": 21,
     "metadata": {},
     "output_type": "execute_result"
    }
   ],
   "source": [
    "hotel[\"topics\"]\n",
    "# mapping each review to top 3 topics"
   ]
  },
  {
   "cell_type": "code",
   "execution_count": 22,
   "id": "5fefa54f-2e3f-4d1d-b519-d16ed6765469",
   "metadata": {},
   "outputs": [
    {
     "data": {
      "text/plain": [
       "[('AM', 1008),\n",
       " ('NYC', 691),\n",
       " ('FRONT_DESK', 497),\n",
       " ('CHECK', 456),\n",
       " ('BIT', 455),\n",
       " ('RECOMMEND', 399),\n",
       " ('ALWAYS', 315),\n",
       " ('WITHIN', 241),\n",
       " ('PRICE', 220),\n",
       " ('AROUND', 202),\n",
       " ('DIRTY', 202),\n",
       " ('THEIR', 194),\n",
       " ('3', 176),\n",
       " ('ANY', 166),\n",
       " ('SHOWER', 157),\n",
       " ('THEN', 152),\n",
       " ('REVIEWS', 148),\n",
       " ('BOOKED', 145),\n",
       " (\"'D\", 135),\n",
       " ('NOISE', 118),\n",
       " ('ELEVATOR', 117),\n",
       " ('STREET', 104),\n",
       " ('FOUND', 100),\n",
       " ('HE', 98),\n",
       " ('BED', 96),\n",
       " ('LOVED', 95),\n",
       " ('COLD', 90),\n",
       " ('ITS', 83),\n",
       " ('RESTAURANT', 70),\n",
       " ('FREE', 69),\n",
       " ('SHE', 68),\n",
       " ('MINUTES', 56),\n",
       " ('COFFEE', 53),\n",
       " ('LOCATED', 52),\n",
       " ('NICELY', 47),\n",
       " ('BEST', 42),\n",
       " ('LOBBY', 33),\n",
       " ('AIRPORT', 28),\n",
       " ('PARKING', 22),\n",
       " ('HILTON', 17),\n",
       " ('WINE', 13),\n",
       " ('DC', 10),\n",
       " ('SUITE', 8),\n",
       " ('KIDS', 8),\n",
       " ('SAN_FRANCISCO', 7),\n",
       " ('POOL', 5),\n",
       " ('VIEW', 3),\n",
       " ('CONFERENCE', 2)]"
      ]
     },
     "execution_count": 22,
     "metadata": {},
     "output_type": "execute_result"
    }
   ],
   "source": [
    "topic_freq = Counter(concat(hotel[\"topics\"]))\n",
    "topic_freq.most_common()"
   ]
  },
  {
   "cell_type": "markdown",
   "id": "0bac877f-efa7-4045-aabb-efbba59d3d71",
   "metadata": {},
   "source": [
    "Most common topics in 1 star reviews?"
   ]
  },
  {
   "cell_type": "code",
   "execution_count": 24,
   "id": "3cf63449-f1e3-495e-a193-71f7cd3b0d55",
   "metadata": {},
   "outputs": [
    {
     "data": {
      "text/plain": [
       "[('AM', 180),\n",
       " ('FRONT_DESK', 151),\n",
       " ('DIRTY', 99),\n",
       " ('CHECK', 77),\n",
       " ('SHOWER', 41),\n",
       " ('BOOKED', 37),\n",
       " ('HE', 33),\n",
       " ('PRICE', 31),\n",
       " ('THEN', 30),\n",
       " ('ANY', 29),\n",
       " ('ALWAYS', 29),\n",
       " ('3', 21),\n",
       " ('AROUND', 19),\n",
       " ('THEIR', 19),\n",
       " ('NOISE', 18),\n",
       " ('ELEVATOR', 16),\n",
       " ('BED', 16),\n",
       " ('COLD', 15),\n",
       " ('BIT', 14),\n",
       " ('NYC', 14),\n",
       " ('REVIEWS', 13),\n",
       " ('RECOMMEND', 11),\n",
       " ('SHE', 10),\n",
       " ('FREE', 8),\n",
       " (\"'D\", 6),\n",
       " ('FOUND', 5),\n",
       " ('LOBBY', 5),\n",
       " ('WITHIN', 5),\n",
       " ('PARKING', 5),\n",
       " ('ITS', 4),\n",
       " ('BEST', 4),\n",
       " ('RESTAURANT', 3),\n",
       " ('COFFEE', 3),\n",
       " ('LOVED', 3),\n",
       " ('VIEW', 2),\n",
       " ('MINUTES', 2),\n",
       " ('HILTON', 2),\n",
       " ('AIRPORT', 2),\n",
       " ('POOL', 1),\n",
       " ('SUITE', 1),\n",
       " ('STREET', 1),\n",
       " ('LOCATED', 1),\n",
       " ('DC', 1)]"
      ]
     },
     "execution_count": 24,
     "metadata": {},
     "output_type": "execute_result"
    }
   ],
   "source": [
    "topic_freq = Counter(concat(hotel.query(\"overall==1\")[\"topics\"]))\n",
    "topic_freq.most_common()\n",
    "# am is big in 1 iverall revioews"
   ]
  },
  {
   "cell_type": "markdown",
   "id": "10ad619f-d5f4-4029-8c55-940c19a6eff3",
   "metadata": {},
   "source": [
    "Most common topics in 5 star reviews?"
   ]
  },
  {
   "cell_type": "code",
   "execution_count": 26,
   "id": "b90022a9-6c32-4f1e-a07a-045ccf026c49",
   "metadata": {},
   "outputs": [
    {
     "data": {
      "text/plain": [
       "[('NYC', 224),\n",
       " ('RECOMMEND', 200),\n",
       " ('AM', 188),\n",
       " ('ALWAYS', 136),\n",
       " ('CHECK', 83),\n",
       " ('THEIR', 80),\n",
       " ('WITHIN', 74),\n",
       " ('BIT', 62),\n",
       " ('AROUND', 57),\n",
       " ('LOVED', 49),\n",
       " ('PRICE', 39),\n",
       " ('FRONT_DESK', 38),\n",
       " ('REVIEWS', 36),\n",
       " ('3', 31),\n",
       " ('BOOKED', 28),\n",
       " ('STREET', 28),\n",
       " ('SHE', 25),\n",
       " ('BEST', 24),\n",
       " ('ANY', 22),\n",
       " ('RESTAURANT', 22),\n",
       " ('LOCATED', 21),\n",
       " ('FOUND', 19),\n",
       " ('THEN', 19),\n",
       " ('MINUTES', 18),\n",
       " (\"'D\", 18),\n",
       " ('BED', 18),\n",
       " ('NOISE', 17),\n",
       " ('ITS', 17),\n",
       " ('COFFEE', 16),\n",
       " ('SHOWER', 15),\n",
       " ('HE', 13),\n",
       " ('NICELY', 13),\n",
       " ('ELEVATOR', 12),\n",
       " ('LOBBY', 10),\n",
       " ('FREE', 9),\n",
       " ('AIRPORT', 8),\n",
       " ('SUITE', 7),\n",
       " ('HILTON', 6),\n",
       " ('COLD', 5),\n",
       " ('PARKING', 4),\n",
       " ('WINE', 4),\n",
       " ('KIDS', 3),\n",
       " ('CONFERENCE', 2),\n",
       " ('DIRTY', 2),\n",
       " ('DC', 1),\n",
       " ('SAN_FRANCISCO', 1),\n",
       " ('VIEW', 1)]"
      ]
     },
     "execution_count": 26,
     "metadata": {},
     "output_type": "execute_result"
    }
   ],
   "source": [
    "topic_freq = Counter(concat(hotel.query(\"overall==5\")[\"topics\"]))\n",
    "topic_freq.most_common()# nyc big"
   ]
  },
  {
   "cell_type": "code",
   "execution_count": null,
   "id": "f98ba13a-9a6e-4c53-9277-f6bd2c7a9ffc",
   "metadata": {},
   "outputs": [],
   "source": []
  },
  {
   "cell_type": "code",
   "execution_count": null,
   "id": "ff227d25-a816-4909-87c2-e981747954b8",
   "metadata": {},
   "outputs": [],
   "source": []
  },
  {
   "cell_type": "markdown",
   "id": "94a18b8b-f296-40b8-b30f-9c9d84d50465",
   "metadata": {},
   "source": [
    "## Report\n",
    "\n",
    "Finish this notebook by writing a brief report to the hotel managers describing what you've found in the reviews of their hotel, along with some actionable advice. Use whatever data, charts, word clouds, etc. that you think will help you make your case."
   ]
  },
  {
   "cell_type": "code",
   "execution_count": null,
   "id": "a9ec345f-97ce-40c5-94c1-c0fd13ac47c2",
   "metadata": {},
   "outputs": [],
   "source": [
    "# can apply to other hotel reviews"
   ]
  }
 ],
 "metadata": {
  "kernelspec": {
   "display_name": "Python 3 (ipykernel)",
   "language": "python",
   "name": "python3"
  },
  "language_info": {
   "codemirror_mode": {
    "name": "ipython",
    "version": 3
   },
   "file_extension": ".py",
   "mimetype": "text/x-python",
   "name": "python",
   "nbconvert_exporter": "python",
   "pygments_lexer": "ipython3",
   "version": "3.10.8"
  }
 },
 "nbformat": 4,
 "nbformat_minor": 5
}
