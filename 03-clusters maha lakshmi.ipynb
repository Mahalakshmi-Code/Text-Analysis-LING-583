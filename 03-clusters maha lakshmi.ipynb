{
 "cells": [
  {
   "cell_type": "markdown",
   "id": "fdfb90b1-75f4-4f75-8f6c-93b74f45bfb3",
   "metadata": {},
   "source": [
    "# Lab 3: Text clustering\n",
    "\n",
    "Generate and interpret document and term clusters from hotel reviews\n",
    "\n",
    "Objectives:\n",
    "\n",
    "- work with sklearn components\n",
    "- construct document-term and term-document matrices\n",
    "- apply dimensionality reduction\n",
    "- perform cluster analysis on document and term collections\n",
    "- interpret results"
   ]
  },
  {
   "cell_type": "code",
   "execution_count": 2,
   "id": "91f8a412-da30-4be7-beb3-42da5fe7d27b",
   "metadata": {},
   "outputs": [],
   "source": [
    "import re\n",
    "\n",
    "import nltk\n",
    "import numpy as np\n",
    "import pandas as pd\n",
    "from cytoolz import *"
   ]
  },
  {
   "cell_type": "code",
   "execution_count": 3,
   "id": "a6b4ad01-5e25-4b04-abc9-aa1f078880c2",
   "metadata": {},
   "outputs": [],
   "source": [
    "pd.set_option(\"display.max_colwidth\", None)"
   ]
  },
  {
   "cell_type": "code",
   "execution_count": 4,
   "id": "c4d5d8bf-eb11-42bf-9928-406c68b52029",
   "metadata": {},
   "outputs": [
    {
     "data": {
      "text/plain": [
       "0      93338\n",
       "1      93338\n",
       "2    1762573\n",
       "3    1762573\n",
       "4    1762573\n",
       "Name: offering_id, dtype: int64"
      ]
     },
     "execution_count": 4,
     "metadata": {},
     "output_type": "execute_result"
    }
   ],
   "source": [
    "df = pd.read_pickle(\"/data/hotels_id.pkl\")\n",
    "df.head()['offering_id']\n"
   ]
  },
  {
   "cell_type": "code",
   "execution_count": 5,
   "id": "10bb6d2d-73ed-42ba-92ea-4a024db51055",
   "metadata": {},
   "outputs": [
    {
     "data": {
      "text/html": [
       "<div>\n",
       "<style scoped>\n",
       "    .dataframe tbody tr th:only-of-type {\n",
       "        vertical-align: middle;\n",
       "    }\n",
       "\n",
       "    .dataframe tbody tr th {\n",
       "        vertical-align: top;\n",
       "    }\n",
       "\n",
       "    .dataframe thead th {\n",
       "        text-align: right;\n",
       "    }\n",
       "</style>\n",
       "<table border=\"1\" class=\"dataframe\">\n",
       "  <thead>\n",
       "    <tr style=\"text-align: right;\">\n",
       "      <th></th>\n",
       "      <th>title</th>\n",
       "      <th>text</th>\n",
       "      <th>overall</th>\n",
       "      <th>value</th>\n",
       "      <th>service</th>\n",
       "      <th>cleanliness</th>\n",
       "      <th>offering_id</th>\n",
       "    </tr>\n",
       "  </thead>\n",
       "  <tbody>\n",
       "    <tr>\n",
       "      <th>0</th>\n",
       "      <td>“Truly is \"Jewel of the Upper Wets Side\"”</td>\n",
       "      <td>Stayed in a king suite for 11 nights and yes it cots us a bit but we were happy with the standard of room, the location and the friendliness of the staff. Our room was on the 20th floor overlooking Broadway and the madhouse of the Fairway Market. Room was quite with no noise evident from the hallway or adjoining rooms. It was great to be able to open windows when we craved fresh rather than heated air. The beds, including the fold out sofa bed, were comfortable and the rooms were cleaned well. Wi-fi access worked like a dream with only one connectivity issue on our first night and this was promptly responded to with a call from the service provider to ensure that all was well. The location close to the 72nd Street subway station is great and the complimentary umbrellas on the drizzly days were greatly appreciated. It is fabulous to have the kitchen with cooking facilities and the access to a whole range of fresh foods directly across the road at Fairway.\\nThis is the second time that members of the party have stayed at the Beacon and it will certainly be our hotel of choice for future visits.</td>\n",
       "      <td>5.0</td>\n",
       "      <td>5.0</td>\n",
       "      <td>5.0</td>\n",
       "      <td>5.0</td>\n",
       "      <td>93338</td>\n",
       "    </tr>\n",
       "    <tr>\n",
       "      <th>1</th>\n",
       "      <td>“My home away from home!”</td>\n",
       "      <td>On every visit to NYC, the Hotel Beacon is the place we love to stay. So conveniently located to Central Park, Lincoln Center and great local restaurants. The rooms are lovely - beds so comfortable, a great little kitchen and new wizz bang coffee maker. The staff are so accommodating and just love walking across the street to the Fairway supermarket with every imaginable goodies to eat (if you choose not to go out for every meal!)</td>\n",
       "      <td>5.0</td>\n",
       "      <td>5.0</td>\n",
       "      <td>5.0</td>\n",
       "      <td>5.0</td>\n",
       "      <td>93338</td>\n",
       "    </tr>\n",
       "    <tr>\n",
       "      <th>2</th>\n",
       "      <td>“Great Stay”</td>\n",
       "      <td>This is a great property in Midtown. We two different rooms different rooms during our stay. The first room was in the North tower, which was quite inconvenient. You have to go through the conference area to get to the north elevators. \\nThe second room was the Andaz Suite. It was nicely appointed room, but the best part about it was the bathroom. From the foot soaking bowl to the bath products, everything about the bathroom was awesome!\\nLemon poppy-seed pancakes are must haves at the restaurant. One of the best pancakes ever.</td>\n",
       "      <td>4.0</td>\n",
       "      <td>4.0</td>\n",
       "      <td>4.0</td>\n",
       "      <td>5.0</td>\n",
       "      <td>1762573</td>\n",
       "    </tr>\n",
       "  </tbody>\n",
       "</table>\n",
       "</div>"
      ],
      "text/plain": [
       "                                       title  \\\n",
       "0  “Truly is \"Jewel of the Upper Wets Side\"”   \n",
       "1                  “My home away from home!”   \n",
       "2                               “Great Stay”   \n",
       "\n",
       "                                                                                                                                                                                                                                                                                                                                                                                                                                                                                                                                                                                                                                                                                                                                                                                                                                                                                                                                                                                                                                                                                                                                                    text  \\\n",
       "0  Stayed in a king suite for 11 nights and yes it cots us a bit but we were happy with the standard of room, the location and the friendliness of the staff. Our room was on the 20th floor overlooking Broadway and the madhouse of the Fairway Market. Room was quite with no noise evident from the hallway or adjoining rooms. It was great to be able to open windows when we craved fresh rather than heated air. The beds, including the fold out sofa bed, were comfortable and the rooms were cleaned well. Wi-fi access worked like a dream with only one connectivity issue on our first night and this was promptly responded to with a call from the service provider to ensure that all was well. The location close to the 72nd Street subway station is great and the complimentary umbrellas on the drizzly days were greatly appreciated. It is fabulous to have the kitchen with cooking facilities and the access to a whole range of fresh foods directly across the road at Fairway.\\nThis is the second time that members of the party have stayed at the Beacon and it will certainly be our hotel of choice for future visits.   \n",
       "1                                                                                                                                                                                                                                                                                                                                                                                                                                                                                                                                                                                                                                                                                                     On every visit to NYC, the Hotel Beacon is the place we love to stay. So conveniently located to Central Park, Lincoln Center and great local restaurants. The rooms are lovely - beds so comfortable, a great little kitchen and new wizz bang coffee maker. The staff are so accommodating and just love walking across the street to the Fairway supermarket with every imaginable goodies to eat (if you choose not to go out for every meal!)   \n",
       "2                                                                                                                                                                                                                                                                                                                                                                                                                                                                                                                                                                                                  This is a great property in Midtown. We two different rooms different rooms during our stay. The first room was in the North tower, which was quite inconvenient. You have to go through the conference area to get to the north elevators. \\nThe second room was the Andaz Suite. It was nicely appointed room, but the best part about it was the bathroom. From the foot soaking bowl to the bath products, everything about the bathroom was awesome!\\nLemon poppy-seed pancakes are must haves at the restaurant. One of the best pancakes ever.   \n",
       "\n",
       "   overall  value  service  cleanliness  offering_id  \n",
       "0      5.0    5.0      5.0          5.0        93338  \n",
       "1      5.0    5.0      5.0          5.0        93338  \n",
       "2      4.0    4.0      4.0          5.0      1762573  "
      ]
     },
     "execution_count": 5,
     "metadata": {},
     "output_type": "execute_result"
    }
   ],
   "source": [
    "df.head(3)"
   ]
  },
  {
   "cell_type": "code",
   "execution_count": 6,
   "id": "2db11ca8-75d7-4f67-a673-a6c754ea309c",
   "metadata": {},
   "outputs": [],
   "source": [
    "ny = df.query('offering_id==93338')"
   ]
  },
  {
   "cell_type": "code",
   "execution_count": 7,
   "id": "6cf3c8b1-f3f7-4da8-8fb8-9d63e84efdd9",
   "metadata": {},
   "outputs": [
    {
     "data": {
      "text/plain": [
       "1192"
      ]
     },
     "execution_count": 7,
     "metadata": {},
     "output_type": "execute_result"
    }
   ],
   "source": [
    "len(ny)"
   ]
  },
  {
   "cell_type": "code",
   "execution_count": 8,
   "id": "4bfb9fbf-7998-48ad-95a9-42380f2c11a4",
   "metadata": {},
   "outputs": [
    {
     "data": {
      "text/html": [
       "<div>\n",
       "<style scoped>\n",
       "    .dataframe tbody tr th:only-of-type {\n",
       "        vertical-align: middle;\n",
       "    }\n",
       "\n",
       "    .dataframe tbody tr th {\n",
       "        vertical-align: top;\n",
       "    }\n",
       "\n",
       "    .dataframe thead th {\n",
       "        text-align: right;\n",
       "    }\n",
       "</style>\n",
       "<table border=\"1\" class=\"dataframe\">\n",
       "  <thead>\n",
       "    <tr style=\"text-align: right;\">\n",
       "      <th></th>\n",
       "      <th>title</th>\n",
       "      <th>text</th>\n",
       "      <th>overall</th>\n",
       "      <th>value</th>\n",
       "      <th>service</th>\n",
       "      <th>cleanliness</th>\n",
       "      <th>offering_id</th>\n",
       "    </tr>\n",
       "  </thead>\n",
       "  <tbody>\n",
       "    <tr>\n",
       "      <th>0</th>\n",
       "      <td>“Truly is \"Jewel of the Upper Wets Side\"”</td>\n",
       "      <td>Stayed in a king suite for 11 nights and yes it cots us a bit but we were happy with the standard of room, the location and the friendliness of the staff. Our room was on the 20th floor overlooking Broadway and the madhouse of the Fairway Market. Room was quite with no noise evident from the hallway or adjoining rooms. It was great to be able to open windows when we craved fresh rather than heated air. The beds, including the fold out sofa bed, were comfortable and the rooms were cleaned well. Wi-fi access worked like a dream with only one connectivity issue on our first night and this was promptly responded to with a call from the service provider to ensure that all was well. The location close to the 72nd Street subway station is great and the complimentary umbrellas on the drizzly days were greatly appreciated. It is fabulous to have the kitchen with cooking facilities and the access to a whole range of fresh foods directly across the road at Fairway.\\nThis is the second time that members of the party have stayed at the Beacon and it will certainly be our hotel of choice for future visits.</td>\n",
       "      <td>5.0</td>\n",
       "      <td>5.0</td>\n",
       "      <td>5.0</td>\n",
       "      <td>5.0</td>\n",
       "      <td>93338</td>\n",
       "    </tr>\n",
       "    <tr>\n",
       "      <th>1</th>\n",
       "      <td>“My home away from home!”</td>\n",
       "      <td>On every visit to NYC, the Hotel Beacon is the place we love to stay. So conveniently located to Central Park, Lincoln Center and great local restaurants. The rooms are lovely - beds so comfortable, a great little kitchen and new wizz bang coffee maker. The staff are so accommodating and just love walking across the street to the Fairway supermarket with every imaginable goodies to eat (if you choose not to go out for every meal!)</td>\n",
       "      <td>5.0</td>\n",
       "      <td>5.0</td>\n",
       "      <td>5.0</td>\n",
       "      <td>5.0</td>\n",
       "      <td>93338</td>\n",
       "    </tr>\n",
       "    <tr>\n",
       "      <th>17</th>\n",
       "      <td>“Excellent location”</td>\n",
       "      <td>Loved the hotel. Great location - only 2 blocks from 72nd St subway. We had a 1 bedroom suite on the 24th floor and had a wonderful view of the Hudson River and the upper West Side. Lovely subtle green decor and room large for NYC standards. It was great having the living area with the lounge that converted into a double bed for our 2 children (12 and 14). Kitchenette was handy to eat breakfast in. We did cook a few evening meals but were limited with cutlery! The Fairway market across the road from the hotel was fabulous. It had an amazing variety of produce as well as ready cooked meals. Having the laundry on the 7th floor was extremely handy. US$1.75 per load and you could get change from the front reception. The staff and front doormen were all very friendly and helpful. Next to the lift is an info desk where you could get a map of NYC. We used this map for the subway, streets and main attractions as these were all on it. Good bottle shop next door to hotel as well.</td>\n",
       "      <td>5.0</td>\n",
       "      <td>5.0</td>\n",
       "      <td>5.0</td>\n",
       "      <td>5.0</td>\n",
       "      <td>93338</td>\n",
       "    </tr>\n",
       "    <tr>\n",
       "      <th>18</th>\n",
       "      <td>“All-round fantastic NYC hotel”</td>\n",
       "      <td>Our first stay on the upper west side and can't say enough good things about the Hotel Beacon. We stayed here based on reviews of family friendly hotels. I'm not sure exactly how they are more family friendly than any other hotel except for the suites and kitchenettes for budget-conscious families. There weren't any special programs for kids, but we did see other families there. For NYC, a nice sized Queen suite gave us everything we needed. Didn't use the kitchen for our overnight stay but definitely would in the future. Rooms were comfortable (ok... a little tight at the foot of the bed but not like some complaints described), the amenities were really appreciated, e.g., free wifi, Keurig coffee service in room, desk area, energy efficient rooms (you put your room card in a device that controls the electricity to save energy while you're out). Lovely bathrooms (although they need a hand towel holder), but really comfortable. We are a family of 3 so the kiddo slept on the pull-out sofa. Room was in good condition-- it appears that shade of green must be the theme, but its nice. The bellman held our luggage after checkout to allow us to stay in the city and not have to worry about our bags. Parking garage is right around the corner -- very close. Viand diner downstairs was OK for dinner -- not great but sufficient. Friendly front desk folks were really helpful -- have breakfast at Bagel Talk not too far away. Very convenient to American Museum of Natural History -- easy to catch a cab or subway. We will definitely stay here again and very happy to recommend.</td>\n",
       "      <td>5.0</td>\n",
       "      <td>4.0</td>\n",
       "      <td>5.0</td>\n",
       "      <td>5.0</td>\n",
       "      <td>93338</td>\n",
       "    </tr>\n",
       "    <tr>\n",
       "      <th>19</th>\n",
       "      <td>“Great hotel in nice area”</td>\n",
       "      <td>Great room, very big with huge bed! Great location, just one block's walk from 72nd subway then 5 minute ride to Times Square and anywhere you want to go from there!\\nWe had a room on the 24th floor so great views of San Remo building and Central Park but building sways ALOT in windy weather, very weird at first!\\nVery close to Central Park, check out Cafe Viand for sit down breakfast and Fairway and Levain Bakery for take away breakfast.\\nGreat all in all!</td>\n",
       "      <td>5.0</td>\n",
       "      <td>4.0</td>\n",
       "      <td>5.0</td>\n",
       "      <td>5.0</td>\n",
       "      <td>93338</td>\n",
       "    </tr>\n",
       "  </tbody>\n",
       "</table>\n",
       "</div>"
      ],
      "text/plain": [
       "                                        title  \\\n",
       "0   “Truly is \"Jewel of the Upper Wets Side\"”   \n",
       "1                   “My home away from home!”   \n",
       "17                       “Excellent location”   \n",
       "18            “All-round fantastic NYC hotel”   \n",
       "19                 “Great hotel in nice area”   \n",
       "\n",
       "                                                                                                                                                                                                                                                                                                                                                                                                                                                                                                                                                                                                                                                                                                                                                                                                                                                                                                                                                                                                                                                                                                                                                                                                                                                                                                                                                                                                                                                                                                                                                                                                                                                text  \\\n",
       "0                                                                                                                                                                                                                                                                                                                                                                                                                                                                                              Stayed in a king suite for 11 nights and yes it cots us a bit but we were happy with the standard of room, the location and the friendliness of the staff. Our room was on the 20th floor overlooking Broadway and the madhouse of the Fairway Market. Room was quite with no noise evident from the hallway or adjoining rooms. It was great to be able to open windows when we craved fresh rather than heated air. The beds, including the fold out sofa bed, were comfortable and the rooms were cleaned well. Wi-fi access worked like a dream with only one connectivity issue on our first night and this was promptly responded to with a call from the service provider to ensure that all was well. The location close to the 72nd Street subway station is great and the complimentary umbrellas on the drizzly days were greatly appreciated. It is fabulous to have the kitchen with cooking facilities and the access to a whole range of fresh foods directly across the road at Fairway.\\nThis is the second time that members of the party have stayed at the Beacon and it will certainly be our hotel of choice for future visits.   \n",
       "1                                                                                                                                                                                                                                                                                                                                                                                                                                                                                                                                                                                                                                                                                                                                                                                                                                                                                                                                                                                                                                                                                                                                                                                                 On every visit to NYC, the Hotel Beacon is the place we love to stay. So conveniently located to Central Park, Lincoln Center and great local restaurants. The rooms are lovely - beds so comfortable, a great little kitchen and new wizz bang coffee maker. The staff are so accommodating and just love walking across the street to the Fairway supermarket with every imaginable goodies to eat (if you choose not to go out for every meal!)   \n",
       "17                                                                                                                                                                                                                                                                                                                                                                                                                                                                                                                                                                                                                          Loved the hotel. Great location - only 2 blocks from 72nd St subway. We had a 1 bedroom suite on the 24th floor and had a wonderful view of the Hudson River and the upper West Side. Lovely subtle green decor and room large for NYC standards. It was great having the living area with the lounge that converted into a double bed for our 2 children (12 and 14). Kitchenette was handy to eat breakfast in. We did cook a few evening meals but were limited with cutlery! The Fairway market across the road from the hotel was fabulous. It had an amazing variety of produce as well as ready cooked meals. Having the laundry on the 7th floor was extremely handy. US$1.75 per load and you could get change from the front reception. The staff and front doormen were all very friendly and helpful. Next to the lift is an info desk where you could get a map of NYC. We used this map for the subway, streets and main attractions as these were all on it. Good bottle shop next door to hotel as well.   \n",
       "18  Our first stay on the upper west side and can't say enough good things about the Hotel Beacon. We stayed here based on reviews of family friendly hotels. I'm not sure exactly how they are more family friendly than any other hotel except for the suites and kitchenettes for budget-conscious families. There weren't any special programs for kids, but we did see other families there. For NYC, a nice sized Queen suite gave us everything we needed. Didn't use the kitchen for our overnight stay but definitely would in the future. Rooms were comfortable (ok... a little tight at the foot of the bed but not like some complaints described), the amenities were really appreciated, e.g., free wifi, Keurig coffee service in room, desk area, energy efficient rooms (you put your room card in a device that controls the electricity to save energy while you're out). Lovely bathrooms (although they need a hand towel holder), but really comfortable. We are a family of 3 so the kiddo slept on the pull-out sofa. Room was in good condition-- it appears that shade of green must be the theme, but its nice. The bellman held our luggage after checkout to allow us to stay in the city and not have to worry about our bags. Parking garage is right around the corner -- very close. Viand diner downstairs was OK for dinner -- not great but sufficient. Friendly front desk folks were really helpful -- have breakfast at Bagel Talk not too far away. Very convenient to American Museum of Natural History -- easy to catch a cab or subway. We will definitely stay here again and very happy to recommend.   \n",
       "19                                                                                                                                                                                                                                                                                                                                                                                                                                                                                                                                                                                                                                                                                                                                                                                                                                                                                                                                                                                                                                                                                                                                                                     Great room, very big with huge bed! Great location, just one block's walk from 72nd subway then 5 minute ride to Times Square and anywhere you want to go from there!\\nWe had a room on the 24th floor so great views of San Remo building and Central Park but building sways ALOT in windy weather, very weird at first!\\nVery close to Central Park, check out Cafe Viand for sit down breakfast and Fairway and Levain Bakery for take away breakfast.\\nGreat all in all!   \n",
       "\n",
       "    overall  value  service  cleanliness  offering_id  \n",
       "0       5.0    5.0      5.0          5.0        93338  \n",
       "1       5.0    5.0      5.0          5.0        93338  \n",
       "17      5.0    5.0      5.0          5.0        93338  \n",
       "18      5.0    4.0      5.0          5.0        93338  \n",
       "19      5.0    4.0      5.0          5.0        93338  "
      ]
     },
     "execution_count": 8,
     "metadata": {},
     "output_type": "execute_result"
    }
   ],
   "source": [
    "ny.head()"
   ]
  },
  {
   "cell_type": "markdown",
   "id": "cb7c8a1d-285d-4b4e-8daa-810d1ef35f6c",
   "metadata": {},
   "source": [
    "## Construct a document-term matrix\n",
    "\n",
    "See the [Sklearn user manual](https://scikit-learn.org/stable/modules/feature_extraction.html#text-feature-extraction) for functions for constructing dtm's. The most useful for this lab are [`CountVectorizer`](https://scikit-learn.org/stable/modules/generated/sklearn.feature_extraction.text.CountVectorizer.html)  and [`TfidfVectorizer`](https://scikit-learn.org/stable/modules/generated/sklearn.feature_extraction.text.TfidfVectorizer.html).  Both have lots of options you can try adjusting, e.g.,:\n",
    "\n",
    "- min_df: ignore words that occur in fewer than `min_df` documents (either count or percentage)\n",
    "- max_df: ignore words that occur in more than `max_df` documents (either count or percentage)\n",
    "- stop_words: if set to `\"english\"`, removes common English function words\n",
    "- analyzer, tokenizer, preprocessor, lowercase, strip_accents: controls sklearn's built-in tokenizer. If you want to use your own tokenizer (like the multi-word one we made last week), set `analyzer=identity` and give the vectorizer pre-tokenized texts.\n",
    "\n",
    "`TfidfVectorizer` adds a few additional options:\n",
    "\n",
    "- norm: set to `l2` (the default) to normalize doc vectors to unit length or `None` for no normalization\n",
    "- use_idf: include idf term\n",
    "- smooth_idf: add one to document frequencies\n",
    "- sublinear_tf: replace tf term with 1+log(tf)\n",
    "\n",
    "And see docs for many other options!"
   ]
  },
  {
   "cell_type": "code",
   "execution_count": 9,
   "id": "99c0af26-764e-4b29-8d1a-eae9598d0dd7",
   "metadata": {},
   "outputs": [],
   "source": [
    "from sklearn.feature_extraction.text import CountVectorizer"
   ]
  },
  {
   "cell_type": "code",
   "execution_count": 10,
   "id": "1b3f54ef-6dfc-4f19-8fa3-81e2a7c66f2b",
   "metadata": {},
   "outputs": [],
   "source": [
    "tf = CountVectorizer(min_df=3, max_df=0.8)\n",
    "#tfidf for normalised vec\n",
    "dtm = tf.fit_transform(ny[\"text\"])"
   ]
  },
  {
   "cell_type": "code",
   "execution_count": 11,
   "id": "97a7fa7f-280e-4f44-b096-7afc85766006",
   "metadata": {},
   "outputs": [
    {
     "data": {
      "text/plain": [
       "<1192x3030 sparse matrix of type '<class 'numpy.int64'>'\n",
       "\twith 106638 stored elements in Compressed Sparse Row format>"
      ]
     },
     "execution_count": 11,
     "metadata": {},
     "output_type": "execute_result"
    }
   ],
   "source": [
    "dtm"
   ]
  },
  {
   "cell_type": "code",
   "execution_count": 12,
   "id": "b84d426d-4072-4633-ad3f-909f76d6a6f2",
   "metadata": {},
   "outputs": [],
   "source": [
    "from sklearn.decomposition import TruncatedSVD"
   ]
  },
  {
   "cell_type": "markdown",
   "id": "1ec91ca8-0ca5-41a9-85c4-d7308c9c1179",
   "metadata": {},
   "source": [
    "## Apply dimensionality reduction\n",
    "\n",
    "The original formulation of Latent Semantic Indexing used SVD for dimensionality reduction. The sklearn function [`TruncatedSVD`](https://scikit-learn.org/stable/modules/generated/sklearn.decomposition.TruncatedSVD.html)  is an efficient implentation of SVD for large sparse matrices (such as dtm's). The argument `n_components` sets the number of dimensions (i.e., columns) in the reduced matrix.\n",
    "\n",
    "You can experiment with other dimensionality reduction techniques, as described in the manual sections on [Matrix factorization](https://scikit-learn.org/stable/modules/decomposition.html#lsa) and [Manifold](https://scikit-learn.org/stable/modules/manifold.html#t-sne). Or, you can skip this step and use your dtm directly as input to the clusterer\n",
    "\n"
   ]
  },
  {
   "cell_type": "code",
   "execution_count": 13,
   "id": "79965fb4-d17e-460d-8b39-8867d03a3cb2",
   "metadata": {},
   "outputs": [],
   "source": [
    "lsi = TruncatedSVD(n_components=28, random_state=760)\n",
    "dtm_lsi = lsi.fit_transform(dtm)"
   ]
  },
  {
   "cell_type": "code",
   "execution_count": 14,
   "id": "65bf372a-dd0d-4f9e-8a4d-405ab933fb9e",
   "metadata": {},
   "outputs": [
    {
     "data": {
      "text/plain": [
       "(1192, 28)"
      ]
     },
     "execution_count": 14,
     "metadata": {},
     "output_type": "execute_result"
    }
   ],
   "source": [
    "dtm_lsi.shape # no 0's"
   ]
  },
  {
   "cell_type": "markdown",
   "id": "d9f54073-dadc-4759-8841-7e7ca860cd23",
   "metadata": {},
   "source": [
    "## Perform cluster analysis\n",
    "\n",
    "Sklearn has implementations of most current clusterining algoroths. See the [clustering chapter](https://scikit-learn.org/stable/modules/clustering.html#clustering) for more discussion. \n",
    "\n",
    "The [k-means](https://scikit-learn.org/stable/modules/generated/sklearn.cluster.KMeans.html) algorithm is a particular simple one. It requires one argument: `n_clusters` sets the number of clusters that k-means will find. K-means is a non-deterministic algorithm, meaning each time you run it you may get a different answer. If you want your results to be reproducible, set the `random_state` argument.\n",
    "\n",
    "\n"
   ]
  },
  {
   "cell_type": "code",
   "execution_count": 15,
   "id": "41d4ba0b-896a-4659-a4ee-b382bbe91c5d",
   "metadata": {},
   "outputs": [],
   "source": [
    "from sklearn.cluster import KMeans"
   ]
  },
  {
   "cell_type": "code",
   "execution_count": 16,
   "id": "cf8c798f-75e3-4d67-9ae9-613ace62b018",
   "metadata": {},
   "outputs": [],
   "source": [
    "kmeans = KMeans(n_clusters=30, random_state=670,n_init=\"auto\")# cluster 15\n",
    "cluster = kmeans.fit_predict(dtm_lsi)# d points assigned to clusters\n",
    "# "
   ]
  },
  {
   "cell_type": "markdown",
   "id": "0e5720fd-c47f-4c4b-b216-0bee70bfc921",
   "metadata": {},
   "source": [
    "## Interpret results\n",
    "\n",
    "Now the hard part: what does all this mean? There are two ways of evaluating a clustering solution, quantitatively and qualitatively."
   ]
  },
  {
   "cell_type": "code",
   "execution_count": 17,
   "id": "7379433a-9525-4380-9fcf-7ee74798255c",
   "metadata": {},
   "outputs": [],
   "source": [
    "from sklearn import metrics"
   ]
  },
  {
   "cell_type": "markdown",
   "id": "9cb5be1b-5df5-4756-bd25-d448acd91ecb",
   "metadata": {},
   "source": [
    "A simple quantitative metric: how many documents are in each cluster?"
   ]
  },
  {
   "cell_type": "code",
   "execution_count": 18,
   "id": "70eac9b9-971c-4853-9c69-13375365ae77",
   "metadata": {},
   "outputs": [
    {
     "data": {
      "text/plain": [
       "[(5, 204),\n",
       " (11, 126),\n",
       " (8, 104),\n",
       " (0, 92),\n",
       " (22, 81),\n",
       " (9, 69),\n",
       " (26, 69),\n",
       " (18, 67),\n",
       " (21, 58),\n",
       " (28, 49),\n",
       " (2, 47),\n",
       " (25, 34),\n",
       " (6, 30),\n",
       " (12, 28),\n",
       " (1, 24),\n",
       " (7, 19),\n",
       " (13, 18),\n",
       " (19, 16),\n",
       " (16, 14),\n",
       " (14, 12),\n",
       " (20, 9),\n",
       " (23, 7),\n",
       " (24, 5),\n",
       " (4, 3),\n",
       " (3, 2),\n",
       " (10, 1),\n",
       " (17, 1),\n",
       " (15, 1),\n",
       " (27, 1),\n",
       " (29, 1)]"
      ]
     },
     "execution_count": 18,
     "metadata": {},
     "output_type": "execute_result"
    }
   ],
   "source": [
    "nltk.FreqDist(cluster).most_common()# "
   ]
  },
  {
   "cell_type": "markdown",
   "id": "671746dd-8d7c-4ba1-b22a-7f133d95902d",
   "metadata": {},
   "source": [
    "More complex metrics take into account how diffuse the clusters are and how well separated they are. Three potentially useful metrics are:\n",
    "\n",
    "- [Calinski Harabasz_score](https://scikit-learn.org/stable/modules/generated/sklearn.metrics.calinski_harabasz_score.html#sklearn.metrics.calinski_harabasz_score) [higher = better]\n",
    "- [Davies Bouldin score](https://scikit-learn.org/stable/modules/generated/sklearn.metrics.davies_bouldin_score.html#sklearn.metrics.davies_bouldin_score) [lower = better]\n",
    "- [Silhouette_score](https://scikit-learn.org/stable/modules/generated/sklearn.metrics.silhouette_score.html#sklearn.metrics.silhouette_score) [higher = better]\n",
    "\n",
    "These are mostly useful for comparing different clusterings of the same data. For example, we could use these to find a good value for *k*, the number of clusters\n",
    "\n",
    "\n",
    "\n",
    "\n"
   ]
  },
  {
   "cell_type": "code",
   "execution_count": 19,
   "id": "78829619-8785-45c4-af4a-d5aaa6039d35",
   "metadata": {},
   "outputs": [
    {
     "name": "stdout",
     "output_type": "stream",
     "text": [
      " 2  404.236     1.453     0.466  \n",
      " 3  294.006     1.913     0.240  \n",
      " 4  226.876     2.284     0.167  \n",
      " 5  196.693     2.233     0.157  \n",
      " 6  171.937     2.374     0.145  \n",
      " 7  151.976     2.381     0.132  \n",
      " 8  138.989     2.421     0.100  \n",
      " 9  122.499     2.597     0.085  \n",
      "10  114.194     2.669     0.069  \n",
      "11  106.564     2.529     0.076  \n",
      "12  102.730     2.472     0.078  \n",
      "13   95.477     2.515     0.081  \n",
      "14   90.961     2.472     0.054  \n",
      "15   86.839     2.450     0.037  \n",
      "16   83.168     2.460     0.042  \n",
      "17   79.455     2.471     0.046  \n",
      "18   76.191     2.542     0.036  \n",
      "19   73.164     2.550     0.030  \n"
     ]
    }
   ],
   "source": [
    "for k in range(2, 20):\n",
    "    _kmeans = KMeans(n_clusters=k, random_state=858, n_init=\"auto\")\n",
    "    _cluster = _kmeans.fit_predict(dtm_lsi)\n",
    "    print(\n",
    "        f\"{k:2}  \"\n",
    "        f\"{metrics.calinski_harabasz_score(dtm_lsi, _cluster):7.3f}   \"\n",
    "        f\"{metrics.davies_bouldin_score(dtm_lsi, _cluster):7.3f}   \"\n",
    "        f\"{metrics.silhouette_score(dtm_lsi, _cluster):7.3f}  \"\n",
    "    )"
   ]
  },
  {
   "cell_type": "markdown",
   "id": "d446d980-44ca-496e-bb90-8644f4250ef2",
   "metadata": {},
   "source": [
    "Qualitative evaluation means reading the data and trying to figure it out. We could look at all of the reviews in some of the smaller clusters:"
   ]
  },
  {
   "cell_type": "code",
   "execution_count": 20,
   "id": "3d91e4a1-255d-4c1e-aa02-b6d1827aef4e",
   "metadata": {},
   "outputs": [
    {
     "data": {
      "text/plain": [
       "280                                                                                                                                                                                                                                                                                                                                                                                                                                                                                                                                                                                                                                                                                                                                                                                                                                                          We were a group of 4 adults and 3 children so we booked 2 1 bedroom suites which were perfect. The bedrooms were spacious and the lounge area had a lot of room to move around, even once you put the sofa bed up. The kitchen is small but adequate and when staying for 6 nights it was nice to be able to make breakfasts and heat things up for dinner. There was lots of storage space so we weren't tripping over our cases. The only thing which could be improved would be to have more hooks to hang towels in the bathroom but aside from that we were extremely happy with the Beacon. The staff were friendly and helpful and the rooms clean. The location was excellent. Fairways market was across the road for breakfast supplies and there were lots of restaurants and cafes within a short walk. The subway station was a two minute walk and it was only a 5 minute walk to Central Park and a 25 min walk to Times Square. Was really nice to be in a residential area that was quiet, yet close to everything. Will definately stay at the Beacon when we come back to New York.\n",
       "2113                                                                                                                                                                                                                                                                                                                                                                                                                                                                                                                                                                                                                                                                                                                                                                    We stayed at the Beacon hotel for 4 nights begining the 23rd July. The hotel is in a good location being walkable to Central Park and even down to 5th Avenue if you like a longer walk. The guys that wait the door were all politeand helpful. Check in procedure was a breeze. However, The Beacon seems to have its own ideas about the size of double beds. I spend most of my working life in and out of hotels and usuallyI don't try to get palmed off with excuses like 'it's the standard size' or 'they are all like that'. A small bed is a small bed for two adults. The real gripe with this visit was the Assistant Manager. I had occasion to go to the front desc a few times and each time while I was waiting de seemed to delight in telling people 'NO'. Whether guets were complaining of construction work or size of room, everything was met witha flat refusal. On the two occasions I asked, I was turned down flat. \\nWe even asked if we could pay for a part stay on the day we were departing (i just wanted my partner and myself to be able to shower before we left early evening) but the answer was a firm 'NO'. A shame as it is a nice place to stay.\n",
       "2170                                                                                                                                                                                                                                                                                                                                                                                                                                                                                                                                                                                                                                                                                                                                                         Stayed here last April (read previous review) and yet again we were not dissapointed. Had to wait in the lobby for about 30 minutes as room wasn't ready, but our luggage was kept in a room and our request of a room facing the street was met even though it was very busy. Booked a 1 bedroom suite and was amazed at the size of the bed! At a queen, it is the biggest I have slept in and it sure was more than enough! This was a pleasant suprise as usually, NYC hotels have small rooms with double beds taking up most of the space, however there was substantial room around the bed with 2 bedside tables, an armchair and a roomy closet (1 of 3). \\nThe bathroom albeit small, was plesent. The shower not the easiest to navigate but was OK. \\nFront desk staff were very helpful, and the doormen efficient when we needed to organise a car to take us to JFK early in the morning. \\nMy favourite aspects of the stay were number 1 the free wifi which was a great upgrade compared to the $10/ 24 hour rate during our last stay and secondly having so many amenities such as Starbucks and the subway close by made for an easy time. Will be coming back for our next stay!\n",
       "2171                                                                                                                                                                                                                                                                                                                                                                                                                                                                                                                                                                            The only reason we booked this hotel was because we wanted a suite (on holiday with teenage daughter), so we were very disappointed and annoyed to find this was not available on our arrival after a long journey from UK. Instead we were given two rooms (not adjoining) which we were not happy about but had no choice other than to accept. However, we were moved the next day to a nice suite near to the top of the building with views towards Central Park. Soon after we returned to the hotel, a member of staff brought a bottle of wine and chocolates to our room by way of apology which was a nice gesture. A few minutes later the manager called to apologise in person and said we would not be charged for the first night, which was very fair in the circumstances.\\nHaving said that, it was a nice hotel, convenient for attractions but also very quiet. Beds very comfortable, bathrooms adequate if a little small, air conditioning effective but noisy (maybe because we are unaccustomed to this). Good views from higher floors, no problem with lifts as others have indicated.\\nViand cafe next door served good food at reasonable prices, and Fairway market across street was fantastic for a DIY breakfast etc. - lovely fruit, pastries, bread etc.\\nI would stay again, but would check availability of accommodation if I wanted a suite.\n",
       "3554    My parents (who are in their 60s), husband and I (in our early 30s) took a trip to New York together. The biggest problem we faced was finding a hotel within budget that also had good reviews. I was really worried about booking my Mum and Dad into a hotel with a broken lift, vermin or lumpy beds. Our travel agent was not much help, and all our friends and family who had been to New York had bigger pockets than us! So we turned to Trip Advisor and went down the list of the highest rated Manhattan hotels until we found one, at #17 from the top, we could afford. What a good strategy that turned out to be!\\nIn our fantasy holiday, we wanted to rent an apartment with two rooms, so that we would be able to eat-in. This being New York we could not find anywhere within our budget, however, with the Hotel Beacon there was no need to compromise. The little kitchenettes, with coffee makers, fridge and hob provide just enough facilities without losing the hotel feel. An added advantage was that both couples had their own bathroom!\\nOur room had small kitchen and bathroom, but lots of wardrobe space and a view over noisy Broadway. My parents got a much bigger kitchen and bathroom but no view, just a much more quiet street at the side. Not sure if this was just a coincidence but it suited us all very well! Apparently floors higher up have great views over the Hudson, so ask.\\nOur room was very peaceful, I now want to paint my bedroom green! Unbeknown to me, I was in the early weeks of pregnancy at the time of my stay, and after a day walking around the large, comfy bed seemed like heaven!\\nThe hotel staff were very friendly. The communal areas clean and in the same Art Deco style as the rooms.\\nWe wandered up and down Broadway. The location is just perfect: close to the subway, the park and the sights -but not too close! We stayed six nights and loved every minute.\n",
       "Name: text, dtype: object"
      ]
     },
     "execution_count": 20,
     "metadata": {},
     "output_type": "execute_result"
    }
   ],
   "source": [
    "ny[cluster == 6][\"text\"].head()"
   ]
  },
  {
   "cell_type": "markdown",
   "id": "101efb93-c3bf-499d-9cc5-757bf12d6382",
   "metadata": {},
   "source": [
    "Or, since we're using *k* means, we could sort them in order of proximity to the cluster centroid."
   ]
  },
  {
   "cell_type": "code",
   "execution_count": 21,
   "id": "0126b656-062b-4313-a50b-d8f62935f5ab",
   "metadata": {},
   "outputs": [
    {
     "data": {
      "text/plain": [
       "19516                                                                                                                                                                                                 A good friend told me about Hotel Beacon, and after reading all the other reviews, we booked for Dec. 21 to Dec. 27. From the moment we arrived until the bill was taken care of, we could not have had a more pleasant experience. The lobby was elegantly decorated for Christmas. \\nThe room was very comfortable (but admittedly, the beds were somewhat hard; nevertheless, we slept just fine), and having the kitchenette made life so much easier. Everything was kept sparkling clean throughout our stay-plenty of strong, hot water for baths...A booklet in the room gives suggestions on where to eat, and the places that we tried matched what was said. Good markets and stores all around, and having the subway all of a minute away was great. People who stayed at the hotel were friendly-maybe we all felt lucky to have a \"find\" or it could have been the holiday spirit? There were two concierges, both of whom were extremely conscientious and helpful. It's true there's street noise, but on the upper floors, it doesn't seem to be in evidence. A definite find.\n",
       "6039                                                                                                                                                                                                                                                                                           I originally booked this hotel for 3 nights with the intention of going to a 5 star hotel for the remainder of our NYC visit as I was unsure whether we would staying here being that it was only a 3 star property.\\nWe loved Hotel Beacon so much that we cancelled our other booking and stayed here for the entirety of our trip.\\nThe neighbourhood is fantastic; supermarkets, deli's and plenty of places to eat. You are on the 1,2& 3 lines for the subway which will take you uptown or downtown quickly and easily.\\nThe room was quite big, clean and comfortable and there were no problems with noise. It was great having a kitchenette which although we did not use a lot was good to have at times. Our room had views and was on the 22nd floor.\\nThe staff downstairs were good to deal with however we did find that the daily maid service was a little hit and miss and it is annoying to have to pay for hi-fi but these are minor issues.\\nI would definitely stay here again.\n",
       "2113                                                                                                       We stayed at the Beacon hotel for 4 nights begining the 23rd July. The hotel is in a good location being walkable to Central Park and even down to 5th Avenue if you like a longer walk. The guys that wait the door were all politeand helpful. Check in procedure was a breeze. However, The Beacon seems to have its own ideas about the size of double beds. I spend most of my working life in and out of hotels and usuallyI don't try to get palmed off with excuses like 'it's the standard size' or 'they are all like that'. A small bed is a small bed for two adults. The real gripe with this visit was the Assistant Manager. I had occasion to go to the front desc a few times and each time while I was waiting de seemed to delight in telling people 'NO'. Whether guets were complaining of construction work or size of room, everything was met witha flat refusal. On the two occasions I asked, I was turned down flat. \\nWe even asked if we could pay for a part stay on the day we were departing (i just wanted my partner and myself to be able to shower before we left early evening) but the answer was a firm 'NO'. A shame as it is a nice place to stay.\n",
       "4495     We had a wonderful post-Valentine get-a-way at The Beacon February 2012. I loved the Upper West Side location, the Fairway market across the street, the diner downstairs, how close a walk it was to Lincoln Center. The room was gorgeous and large for Manhattan standards; we had a studio with a kitchenette, and understand completely how people actually live there. I believe some units were residences, and I was ready to stay awhile myself~! We were on the fourth floor, and when we opened the window shade, we had a great view of Broadway below, and the ballet practicing in the building across the street (now that explains all the thin, ballet dancing-looking girls at breakfast). Even though our room was near the elevator, we did not hear a thing, thanks to the deftly built, fabulous old construction of the area. Quite a treat. Room was very clean, updated, great color palette, loved the kitchenette. Buy some groceries at the Fairway as the kitchen supplies you with plates and silver and pots & pans. There was also a huge concert going on at the attached Beacon Theatre; but our room was well insulated and we didn't hear a thing, not even after all the rockers poured out onto the street below. Love it, will return again, and soon!\n",
       "19668               We were attending a wedding in NYC the day before Thanksgiving and were extremely pleased with the hotel. First of all, the location was perfect for our purposes, e.g. the reception at Tavern on the Green and the rehearsal dinner. Also, we could walk 3-4 blocks to the site of the inflation of the balloons which our 6 year old enjoyed. The neighborhood felt safe and had many restaurants and shops. The staff at the front desk was friendly and efficient. The one bedroom suite was clean and VERY spacious. The linens were clean. The bed comfortable. \\nThe handicapped accessible bathroom was newly renovated and easy to use for all (handicapped and otherwise). The in-room safe was most useful. \\nThe kitchen had full amenities and was very clean. Considering that most restaurants will deliver, the kitchen became an important feature. \\nAll of the other wedding guests enjoyed the hotel as well. No complaints as far as we know. I was surprised at the low room rate, $185.00/night for the 1 bedroom suite! We had stayed in the Sheraton Towers in the past and felt that Hotel Beacon was superior especially if you consider the price. We will definitely stay at this hotel again in future visits of which there will be many I'm sure.\n",
       "Name: text, dtype: object"
      ]
     },
     "execution_count": 21,
     "metadata": {},
     "output_type": "execute_result"
    }
   ],
   "source": [
    "C = 6\n",
    "distances = metrics.pairwise.euclidean_distances(\n",
    "    kmeans.cluster_centers_[C, np.newaxis, :], dtm_lsi[cluster == C, :] \n",
    ")\n",
    "ny[cluster == C].iloc[np.argsort(distances)[0]][\"text\"].head(5)"
   ]
  },
  {
   "cell_type": "markdown",
   "id": "12959d7a-c2bb-445b-ac03-f32e63a57e4d",
   "metadata": {},
   "source": [
    "## Term clustering\n",
    "\n",
    "Document clustering is not usually very helpful, unless the documents are very short and/or naturally fall into a small number of distinct classes. Term clustering, on the other hand, does sometimes give interesting results. \n",
    "\n",
    "To cluster terms, all we need to do is transpose the document-term matrix to form the term-document matrix (tdm). After that, the rest of the process is the same, except that instead of relating documents by the terms they share, we're relating terms by the documents they co-occur in.\n",
    "\n"
   ]
  },
  {
   "cell_type": "code",
   "execution_count": 22,
   "id": "1eec8ea3-3e03-4872-a01e-c32f4d3de565",
   "metadata": {},
   "outputs": [],
   "source": [
    "tf = CountVectorizer(min_df=2, max_df=0.5)\n",
    "tdm = tf.fit_transform(ny[\"text\"]).T\n",
    "\n",
    "lsi = TruncatedSVD(n_components=6, random_state=858)\n",
    "tdm_lsi = lsi.fit_transform(tdm)\n",
    "\n",
    "kmeans = KMeans(15, random_state=858, n_init=\"auto\")\n",
    "cluster = kmeans.fit_predict(tdm_lsi)"
   ]
  },
  {
   "cell_type": "code",
   "execution_count": 23,
   "id": "3a2fca17-efd4-400b-9a3b-3f8715f97b78",
   "metadata": {},
   "outputs": [
    {
     "data": {
      "text/plain": [
       "[(0, 3294),\n",
       " (13, 440),\n",
       " (7, 148),\n",
       " (2, 42),\n",
       " (8, 38),\n",
       " (11, 23),\n",
       " (12, 14),\n",
       " (10, 12),\n",
       " (14, 10),\n",
       " (4, 8),\n",
       " (1, 3),\n",
       " (9, 2),\n",
       " (5, 1),\n",
       " (6, 1),\n",
       " (3, 1)]"
      ]
     },
     "execution_count": 23,
     "metadata": {},
     "output_type": "execute_result"
    }
   ],
   "source": [
    "nltk.FreqDist(cluster).most_common()"
   ]
  },
  {
   "cell_type": "code",
   "execution_count": 24,
   "id": "2fead011-024e-4529-b76e-04ff66b3034d",
   "metadata": {},
   "outputs": [],
   "source": [
    "vocab = tf.get_feature_names_out()"
   ]
  },
  {
   "cell_type": "code",
   "execution_count": 25,
   "id": "7a6faa5d-401e-4f80-9a3f-2d5ffe55bd09",
   "metadata": {},
   "outputs": [
    {
     "data": {
      "text/plain": [
       "array(['about', 'again', 'also', 'an', 'area', 'bed', 'bedroom', 'by',\n",
       "       'door', 'floor', 'here', 'kitchenette', 'next', 'nice', 'night',\n",
       "       'only', 'other', 'really', 'small', 'suite', 'two', 'us', 'well'],\n",
       "      dtype=object)"
      ]
     },
     "execution_count": 25,
     "metadata": {},
     "output_type": "execute_result"
    }
   ],
   "source": [
    "vocab[cluster == 11]"
   ]
  },
  {
   "cell_type": "code",
   "execution_count": 26,
   "id": "a87272ab-da10-4128-8b16-12d0fc105980",
   "metadata": {},
   "outputs": [
    {
     "data": {
      "text/plain": [
       "array(['by', 'again', 'floor', 'really', 'small', 'about', 'kitchenette',\n",
       "       'here', 'next', 'other', 'two', 'door', 'area', 'bedroom', 'night',\n",
       "       'nice', 'bed', 'an', 'well', 'only', 'suite', 'also', 'us'],\n",
       "      dtype=object)"
      ]
     },
     "execution_count": 26,
     "metadata": {},
     "output_type": "execute_result"
    }
   ],
   "source": [
    "C = 11\n",
    "distances = metrics.pairwise.euclidean_distances(\n",
    "    kmeans.cluster_centers_[C, np.newaxis, :], tdm_lsi[cluster == C, :]\n",
    ")\n",
    "vocab[cluster == C][np.argsort(distances)[0]]\n",
    "# ranking acc to dis from centroid"
   ]
  },
  {
   "cell_type": "code",
   "execution_count": 27,
   "id": "0dabf781-22ce-43ac-bd8e-5671472d3811",
   "metadata": {},
   "outputs": [
    {
     "data": {
      "text/plain": [
       "array(['72nd', 'around', 'away', 'bathroom', 'beds', 'blocks',\n",
       "       'breakfast', 'broadway', 'city', 'close', 'comfortable', 'easy',\n",
       "       'etc', 'excellent', 'fairway', 'few', 'food', 'friendly',\n",
       "       'helpful', 'kitchen', 'little', 'market', 'minutes', 'nights',\n",
       "       'perfect', 'recommend', 'restaurants', 'right', 'road', 'safe',\n",
       "       'side', 'spacious', 'square', 'station', 'supermarket', 'upper',\n",
       "       'walking', 'west'], dtype=object)"
      ]
     },
     "execution_count": 27,
     "metadata": {},
     "output_type": "execute_result"
    }
   ],
   "source": [
    "vocab[cluster == 8]"
   ]
  },
  {
   "cell_type": "code",
   "execution_count": 28,
   "id": "56c68710-ba52-45b1-8200-023f81f1ee30",
   "metadata": {},
   "outputs": [
    {
     "data": {
      "text/plain": [
       "array(['breakfast', 'square', 'kitchen', 'upper', 'easy', 'nights',\n",
       "       'restaurants', 'recommend', 'excellent', 'food', 'minutes',\n",
       "       'walking', 'west', 'city', 'little', 'market', 'side', 'spacious',\n",
       "       '72nd', 'station', 'road', 'beds', 'safe', 'broadway', 'close',\n",
       "       'perfect', 'supermarket', 'few', 'fairway', 'friendly',\n",
       "       'comfortable', 'around', 'helpful', 'bathroom', 'etc', 'right',\n",
       "       'away', 'blocks'], dtype=object)"
      ]
     },
     "execution_count": 28,
     "metadata": {},
     "output_type": "execute_result"
    }
   ],
   "source": [
    "C = 8\n",
    "distances = metrics.pairwise.euclidean_distances(\n",
    "    kmeans.cluster_centers_[C, np.newaxis, :], tdm_lsi[cluster == C, :]\n",
    ")\n",
    "vocab[cluster == C][np.argsort(distances)[0]]\n",
    "# ranking acc to dis from centroid"
   ]
  },
  {
   "cell_type": "markdown",
   "id": "4e25715c-fca3-4581-b705-58b53bbfc2fa",
   "metadata": {},
   "source": [
    "## Results\n",
    "\n",
    "Once you're done experimenting with document and term clustering, write up a paragraph on your results? What methods did you try? What worked and what didn't? Did you manage to find any useful information about hotels from this?"
   ]
  },
  {
   "cell_type": "code",
   "execution_count": null,
   "id": "db01e0e4-30b7-461a-852e-3e22e53f8e28",
   "metadata": {},
   "outputs": [],
   "source": [
    "Methods I tried-\n",
    "I have done  analysis on the hotel with offering ID-93338.\n",
    "I have changed some parameters like dimensionality, cluster number \n",
    "I ignored the words which occur less than 3 times and constructed a dtm\n",
    "I tried to perform clustering with DBSCAN but I got an error and I’m unable to figure it out why.\n",
    "Instead of using TfidfVectorizer, I used CountVectorizer and got the following results\n",
    "\n",
    "\n",
    "Paragraph on results and useful information inferred from results-\n",
    "From  the first 5 rows of ny by the code-ny.head(), we can say that it is a hotel in NYC.\n",
    "After performing a dimensionality reduction on a term document matrix using TruncatedSVD to identify latent topics or concepts in a set of documents and formed clusters with K-Means algorithm,I Observed terms in cluster-11 and Cluster-8\n",
    "\n",
    "Cluster-11\n",
    "The terms in Cluster 11 are not much significant. There are terms like- by, here, next, other and two , which doesn’t give much information about the document.\n",
    "\n",
    "Cluster-8\n",
    "The terms in cluster 8 are \n",
    "array(['breakfast', 'square', 'kitchen', 'upper', 'easy', 'nights',\n",
    "       'restaurants', 'recommend', 'excellent', 'food', 'minutes',\n",
    "       'walking', 'west', 'city', 'little', 'market', 'side', 'spacious',\n",
    "       '72nd', 'station', 'road', 'beds', 'safe', 'broadway', 'close',\n",
    "       'perfect', 'supermarket', 'few', 'fairway', 'friendly',\n",
    "       'comfortable', 'around', 'helpful', 'bathroom', 'etc', 'right',\n",
    "       'away', 'blocks'], dtype=object)\n",
    "\n",
    "Which has significant words like -easy, recommend, excellent, spacious, safe, perfect, friendly, comfortable, helpful-which indicate that the hotel with ID-93338 has positive reviews\n",
    "And the terms like-breakfast,kitchen, restaurants, food, supermarket-which indicates that this cluster is formed on the theme- Food \n",
    "\n",
    "To conclude, TfidfVectorizer is better than CountVectorizer. As,\n",
    "CountVectorizer does not take into account the fact that some words may occur very frequently in some documents, but less frequently in others.\n",
    "Whereas, TfidfVectorizer-takes into account  how important a word is to a document in a collection of documents. Words that occur frequently in a document but also in many other documents across the collection are down-weighted\n",
    "#TfidfVectorizer is a more sophisticated approach that can provide better results in some text analysis tasks by taking \n",
    "#into account the  relative importance of words in a document.\n",
    "\n",
    "What worked and what didn’t-\n",
    "\n",
    "CountVectorizer worked well. DBSCAN didn’t work well."
   ]
  }
 ],
 "metadata": {
  "kernelspec": {
   "display_name": "Python 3 (ipykernel)",
   "language": "python",
   "name": "python3"
  },
  "language_info": {
   "codemirror_mode": {
    "name": "ipython",
    "version": 3
   },
   "file_extension": ".py",
   "mimetype": "text/x-python",
   "name": "python",
   "nbconvert_exporter": "python",
   "pygments_lexer": "ipython3",
   "version": "3.10.8"
  }
 },
 "nbformat": 4,
 "nbformat_minor": 5
}
